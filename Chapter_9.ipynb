{
  "nbformat": 4,
  "nbformat_minor": 0,
  "metadata": {
    "colab": {
      "name": "Chapter 9.ipynb",
      "provenance": [],
      "collapsed_sections": [
        "ZEgCFC42tP9i",
        "QX6OYrpWu7I9",
        "r08xxByVvzC5",
        "NaymFfu2ygmH",
        "ywBWV4UVyjms",
        "UVoTieheUtUb",
        "G1K-14sTWCAU",
        "suy2jAGG6IIM"
      ],
      "authorship_tag": "ABX9TyOljltAbn82Cwm4hP7d0gSI",
      "include_colab_link": true
    },
    "kernelspec": {
      "name": "python3",
      "display_name": "Python 3"
    },
    "language_info": {
      "name": "python"
    }
  },
  "cells": [
    {
      "cell_type": "markdown",
      "metadata": {
        "id": "view-in-github",
        "colab_type": "text"
      },
      "source": [
        "<a href=\"https://colab.research.google.com/github/nemuelpalomo/Python-Crash-Course/blob/main/Chapter_9.ipynb\" target=\"_parent\"><img src=\"https://colab.research.google.com/assets/colab-badge.svg\" alt=\"Open In Colab\"/></a>"
      ]
    },
    {
      "cell_type": "markdown",
      "source": [
        "##9-1 Restaurant"
      ],
      "metadata": {
        "id": "ZEgCFC42tP9i"
      }
    },
    {
      "cell_type": "code",
      "execution_count": null,
      "metadata": {
        "colab": {
          "base_uri": "https://localhost:8080/"
        },
        "id": "lfVb_VK_tN2E",
        "outputId": "fb1e60f8-1a32-4d17-bffb-404c1b0eb848"
      },
      "outputs": [
        {
          "output_type": "stream",
          "name": "stdout",
          "text": [
            "The Restaurant Los Pollos Hermanos with a cuisine type of Fast-Food is now open!.\n"
          ]
        }
      ],
      "source": [
        "class Restaurant:\n",
        "  def __init__(self, restaurant_name, cuisine_type):\n",
        "    self.restaurant_name = restaurant_name\n",
        "    self.cuisine_type = cuisine_type\n",
        "\n",
        "  def open_restaurant(self):\n",
        "    print(f\"The Restaurant {self.restaurant_name.title()} with a cuisine type of {self.cuisine_type.title()} is now open!.\")\n",
        "\n",
        "restaurant_1 = Restaurant('los pollos hermanos', 'fast-food')\n",
        "\n",
        "\n",
        "restaurant_1.open_restaurant()"
      ]
    },
    {
      "cell_type": "markdown",
      "source": [
        "##9-2 Three Restaurants"
      ],
      "metadata": {
        "id": "QX6OYrpWu7I9"
      }
    },
    {
      "cell_type": "code",
      "source": [
        "class Restaurant:\n",
        "  def __init__(self, restaurant_name, cuisine_type):\n",
        "    self.restaurant_name = restaurant_name\n",
        "    self.cuisine_type = cuisine_type\n",
        "\n",
        "  def describe_restaurant(self):\n",
        "    print(f\"{self.restaurant_name.title()} is a {self.cuisine_type.title()} restaurant.\")\n",
        "\n",
        "\n",
        "\n",
        "jollibee = Restaurant('Jabi', 'fast-food')\n",
        "\n",
        "mcdo = Restaurant('macdo', 'fast-food')\n",
        "\n",
        "seoul = Restaurant('samgyup', 'korean')\n",
        "\n",
        "jollibee.describe_restaurant()\n",
        "\n",
        "mcdo.describe_restaurant()\n",
        "\n",
        "seoul.describe_restaurant()"
      ],
      "metadata": {
        "colab": {
          "base_uri": "https://localhost:8080/"
        },
        "id": "-BekUpWNu9BY",
        "outputId": "e760d01c-c9ee-497c-c33f-5842adf8b7c4"
      },
      "execution_count": null,
      "outputs": [
        {
          "output_type": "stream",
          "name": "stdout",
          "text": [
            "Jabi is a Fast-Food restaurant.\n",
            "Macdo is a Fast-Food restaurant.\n",
            "Samgyup is a Korean restaurant.\n"
          ]
        }
      ]
    },
    {
      "cell_type": "markdown",
      "source": [
        "##9-3 Users"
      ],
      "metadata": {
        "id": "r08xxByVvzC5"
      }
    },
    {
      "cell_type": "code",
      "source": [
        "class User:\n",
        "  def __init__(self, first_name, last_name):\n",
        "    self.first_name = first_name\n",
        "    self.last_name = last_name\n",
        "\n",
        "  def describe_user(self):\n",
        "    print(f\"{self.first_name.title()}'s last name is {self.last_name.title()}.\")\n",
        "\n",
        "  def greet_user(self):\n",
        "    print(f\"\\nHello Good Day! {self.first_name.title()} {self.last_name.title()}, How are you today? \")\n",
        "\n",
        "user_1 = User('nemuel', 'palomo')\n",
        "\n",
        "user_1.describe_user()\n",
        "user_1.greet_user()"
      ],
      "metadata": {
        "colab": {
          "base_uri": "https://localhost:8080/"
        },
        "id": "Nb016TcDv0aI",
        "outputId": "cc421299-a144-40fd-e5a7-1422302749c7"
      },
      "execution_count": null,
      "outputs": [
        {
          "output_type": "stream",
          "name": "stdout",
          "text": [
            "Nemuel's last name is Palomo.\n",
            "\n",
            "Hello Good Day! Nemuel Palomo, How are you today? \n"
          ]
        }
      ]
    },
    {
      "cell_type": "markdown",
      "source": [
        "##9-4 Number Served"
      ],
      "metadata": {
        "id": "NaymFfu2ygmH"
      }
    },
    {
      "cell_type": "code",
      "source": [
        "class Restaurant:\n",
        "  def __init__(self, restaurant_name, cuisine_type):\n",
        "    self.restaurant_name = restaurant_name\n",
        "    self.cuisine_type = cuisine_type\n",
        "    self.number_served = 0\n",
        "\n",
        "  def open_restaurant(self):\n",
        "    print(f\"The Restaurant {self.restaurant_name.title()} with a cuisine type of {self.cuisine_type.title()} is now open!.\")\n",
        "\n",
        "class restaurant(Restaurant):\n",
        "\n",
        "  def set_number_served(self, served):\n",
        "    self.number_served = served \n",
        "\n",
        "  def show_number_served(self):\n",
        "    print(f\"\\nThe number of customers that were served is: {self.number_served}\")\n",
        "  \n",
        "\n",
        "restaurant_1 = restaurant('los pollos hermanos', 'fast-food')\n",
        "\n",
        "\n",
        "restaurant_1.open_restaurant()\n",
        "\n",
        "restaurant_1.set_number_served(25)\n",
        "\n",
        "restaurant_1.show_number_served()"
      ],
      "metadata": {
        "id": "AZXn50vsyjQj",
        "colab": {
          "base_uri": "https://localhost:8080/"
        },
        "outputId": "81ae81e2-8633-4fe6-c562-01d85de0b248"
      },
      "execution_count": null,
      "outputs": [
        {
          "output_type": "stream",
          "name": "stdout",
          "text": [
            "The Restaurant Los Pollos Hermanos with a cuisine type of Fast-Food is now open!.\n",
            "\n",
            "The number of customers that were served is: 25\n"
          ]
        }
      ]
    },
    {
      "cell_type": "markdown",
      "source": [
        "##9-5 Login Attempts"
      ],
      "metadata": {
        "id": "ywBWV4UVyjms"
      }
    },
    {
      "cell_type": "code",
      "source": [
        "class User:\n",
        "  def __init__(self, first_name, last_name):\n",
        "    self.first_name = first_name\n",
        "    self.last_name = last_name\n",
        "    self.login_attempts = 1\n",
        "\n",
        "  def increment_login_attempts(self):\n",
        "    self.login_attempts += 1\n",
        "\n",
        "  def reset_login_attempts(self):\n",
        "    self.login_attempts = 0\n",
        "\n",
        "  def describe_user(self):\n",
        "    print(f\"{self.first_name.title()}'s last name is {self.last_name.title()}.\")\n",
        "\n",
        "  def greet_user(self):\n",
        "    print(f\"\\nHello Good Day! {self.first_name.title()} {self.last_name.title()}, How are you today? \")\n",
        "\n",
        "\n",
        "\n",
        "user_1 = User('nemuel', 'palomo')\n",
        "\n",
        "user_1.describe_user()\n",
        "user_1.greet_user()\n",
        "\n",
        "print(f\"\\nAttempting to login 5 times...\")\n",
        "user_1.increment_login_attempts()\n",
        "user_1.increment_login_attempts()\n",
        "user_1.increment_login_attempts()\n",
        "user_1.increment_login_attempts()\n",
        "\n",
        "print(f\"\\n{user_1.first_name.title()} login attempts = {user_1.login_attempts}\")\n",
        "\n",
        "print(f\"\\n{user_1.first_name.title()} login is successful, resetting login attempts...\")\n",
        "\n",
        "user_1.reset_login_attempts()\n",
        "\n",
        "print(f\"\\n{user_1.first_name.title()} login attempts = {user_1.login_attempts}\")\n"
      ],
      "metadata": {
        "id": "sqr1TRLXyl_b",
        "colab": {
          "base_uri": "https://localhost:8080/"
        },
        "outputId": "d4e563d3-15d0-4d1f-bf27-d46c5c5f1846"
      },
      "execution_count": null,
      "outputs": [
        {
          "output_type": "stream",
          "name": "stdout",
          "text": [
            "Nemuel's last name is Palomo.\n",
            "\n",
            "Hello Good Day! Nemuel Palomo, How are you today? \n",
            "\n",
            "Attempting to login 5 times...\n",
            "\n",
            "Nemuel login attempts = 5\n",
            "\n",
            "Nemuel login is successful, resetting login attempts...\n",
            "\n",
            "Nemuel login attempts = 0\n"
          ]
        }
      ]
    },
    {
      "cell_type": "markdown",
      "source": [
        "##9-6 Ice Cream Stand\n"
      ],
      "metadata": {
        "id": "UVoTieheUtUb"
      }
    },
    {
      "cell_type": "code",
      "source": [
        "class IceCreamStand(Restaurant):\n",
        "  def __init__(self):\n",
        "    self.flavors = ['vanilla', 'strawberry', 'caramel']\n",
        "\n",
        "  def display_flavors(self):\n",
        "    print(f\"This ice cream stand have three different flavors which are: \\n\")\n",
        "    for types in self.flavors:\n",
        "      print(f\"- {types.title()}\")\n",
        "\n",
        "\n",
        "yawastore = IceCreamStand()\n",
        "\n",
        "\n",
        "yawastore.display_flavors()\n",
        "\n",
        "\n",
        "\n"
      ],
      "metadata": {
        "colab": {
          "base_uri": "https://localhost:8080/"
        },
        "id": "yiBqruqOUvlX",
        "outputId": "44f5f003-3ca8-4525-f117-5bbd5f7f1bb3"
      },
      "execution_count": null,
      "outputs": [
        {
          "output_type": "stream",
          "name": "stdout",
          "text": [
            "This ice cream stand have three different flavors which are: \n",
            "\n",
            "- Vanilla\n",
            "- Strawberry\n",
            "- Caramel\n"
          ]
        }
      ]
    },
    {
      "cell_type": "markdown",
      "source": [
        "##9-7 Admin"
      ],
      "metadata": {
        "id": "G1K-14sTWCAU"
      }
    },
    {
      "cell_type": "code",
      "source": [
        "class User:\n",
        "  def __init__(self, first_name, last_name):\n",
        "    self.first_name = first_name\n",
        "    self.last_name = last_name\n",
        "    self.login_attempts = 1\n",
        "\n",
        "  def increment_login_attempts(self):\n",
        "    self.login_attempts += 1\n",
        "\n",
        "  def reset_login_attempts(self):\n",
        "    self.login_attempts = 0\n",
        "\n",
        "  def describe_user(self):\n",
        "    print(f\"{self.first_name.title()}'s last name is {self.last_name.title()}.\")\n",
        "\n",
        "  def greet_user(self):\n",
        "    print(f\"\\nHello Good Day! {self.first_name.title()} {self.last_name.title()}, How are you today? \")\n",
        "\n",
        "class Admin(User):\n",
        "  def __init__(self):\n",
        "    self.privileges = Privileges()\n",
        "\n",
        "\n",
        "    \n",
        "\n",
        "\n",
        "\n",
        "\n",
        "\n",
        "\n",
        "admin = Admin()\n",
        "\n",
        "\n"
      ],
      "metadata": {
        "id": "yh1RSgx7WAv0"
      },
      "execution_count": null,
      "outputs": []
    },
    {
      "cell_type": "markdown",
      "source": [
        "##9-8 Privileges"
      ],
      "metadata": {
        "id": "suy2jAGG6IIM"
      }
    },
    {
      "cell_type": "code",
      "source": [
        "class User:\n",
        "  def __init__(self, first_name, last_name):\n",
        "    self.first_name = first_name\n",
        "    self.last_name = last_name\n",
        "    self.login_attempts = 0\n",
        "\n",
        "  def increment_login_attempts(self):\n",
        "    self.login_attempts += 1\n",
        "\n",
        "  def reset_login_attempts(self):\n",
        "    self.login_attempts = 0\n",
        "\n",
        "  def describe_user(self):\n",
        "    print(f\"{self.first_name.title()}'s last name is {self.last_name.title()}.\")\n",
        "\n",
        "  def greet_user(self):\n",
        "    print(f\"\\nGood Day {self.first_name.title()} {self.last_name.title()}!, How are you today? \")\n",
        "\n",
        "class Admin(User):\n",
        "  def __init__(self, first_name, last_name):\n",
        "    super().__init__(first_name, last_name)\n",
        "    self.privileges = Privileges()\n",
        "\n",
        "\n",
        "class Privileges:\n",
        "  def __init__(self, privileges=[]):\n",
        "    self.privileges = privileges\n",
        "\n",
        "  def show_privileges(self):\n",
        "    print(f\"\\nPrivileges: \\n\")\n",
        "    if self.privileges:\n",
        "      for privilege in self.privileges:\n",
        "        print(f\"-{privilege}\")\n",
        "    else:\n",
        "      print(f\" - This user has no privileges.\")\n",
        "\n",
        "\n",
        "user0 = Admin('nemuel', 'palomo')\n",
        "\n",
        "user0.describe_user()\n",
        "user0.greet_user()\n",
        "\n",
        "user0.privileges.show_privileges()\n",
        "\n",
        "print(\"\\nAdding user0 his admin privileges...\\n\")\n",
        "user0.privileges.privileges = ['can ban', 'can kick', 'can mute']\n",
        "\n",
        "user0.privileges.show_privileges()\n",
        "\n"
      ],
      "metadata": {
        "colab": {
          "base_uri": "https://localhost:8080/"
        },
        "id": "s0HRkgvY6MSL",
        "outputId": "72933dfe-f6d1-4398-f548-8f3702632518"
      },
      "execution_count": null,
      "outputs": [
        {
          "output_type": "stream",
          "name": "stdout",
          "text": [
            "Nemuel's last name is Palomo.\n",
            "\n",
            "Good Day Nemuel Palomo!, How are you today? \n",
            "\n",
            "Privileges: \n",
            "\n",
            " - This user has no privileges.\n",
            "\n",
            "Adding user0 his admin privileges...\n",
            "\n",
            "\n",
            "Privileges: \n",
            "\n",
            "-can ban\n",
            "-can kick\n",
            "-can mute\n"
          ]
        }
      ]
    },
    {
      "cell_type": "markdown",
      "source": [
        "##9-9 Battery Upgrade"
      ],
      "metadata": {
        "id": "QJZVTpaWAvBr"
      }
    },
    {
      "cell_type": "code",
      "source": [
        "class Car:\n",
        "     # A simple attempt to represent a car.\n",
        "     def __init__(self, make, model, year):\n",
        "         # Initialize attributes to describe a car.\n",
        "         self.make = make\n",
        "         self.model = model\n",
        "         self.year = year\n",
        "         self.odometer_reading = 0\n",
        "\n",
        "     def get_descriptive_name(self):\n",
        "         # Return a neatly formatted descriptive name.\n",
        "         long_name = str(self.year) + \" \" + self.make + \" \" + self.model\n",
        "         return long_name.title()\n",
        "\n",
        "     def read_odometer(self):\n",
        "         # Print a statement showing the car's mileage.\n",
        "         print(\"This cas has \" + str(self.odometer_reading) + \" miles on it.\")\n",
        "\n",
        "     def update_odometer(self, mileage):\n",
        "         # Set the odometer reading to the given value.\n",
        "         # Reject the change if it attempts to roll the odometer back.\n",
        "         if mileage >= self.odometer_reading:\n",
        "             self.odometer_reading = mileage\n",
        "         else:\n",
        "             print(\"You can't roll back an odometer!\")\n",
        "\n",
        "     def increment_odometer(self, miles):\n",
        "         # Add the given amount to the odometer reading.\n",
        "         self.odometer_reading += miles\n",
        "\n",
        "     def fill_gas_tank(self):\n",
        "         print(\"This car needs a gas tank!\")\n",
        "\n",
        "\n",
        "class Battery:\n",
        "    # A simple attempt to model a battery for an electric car.\n",
        "    def __init__(self, battery_size=75):\n",
        "        # Initialize the battery's attributes.\n",
        "        self.battery_size = battery_size\n",
        "\n",
        "    def describe_battery(self):\n",
        "        # Print a statement describing the battery size.\n",
        "        print(\"This car has a \" + str(self.battery_size) + \"-kWh battery.\")\n",
        "\n",
        "    def get_range(self):\n",
        "        \"\"\"Print a statement about the range this battery provides.\"\"\"\n",
        "        if self.battery_size == 75:\n",
        "            range = 260\n",
        "        elif self.battery_size == 100:\n",
        "            range = 315\n",
        "            \n",
        "        message = f\"This car can go approximately {range} miles on a full charge.\"\n",
        "        print(message)\n",
        "\n",
        "    def upgrade_battery(self):\n",
        "        if self.battery_size == 75:\n",
        "          self.battery_size = 100\n",
        "        else:\n",
        "          print(f\"The battery is already upgraded!\")\n",
        "\n",
        "\n",
        "class ElectricCar(Car):\n",
        "    # Represent aspects of a car, specific to electric vehicles.\n",
        "    def __init__(self, make, model, year):\n",
        "        # Initialize attributes of the parent class.\n",
        "        # Then initialize attributes specific to an electric car.\n",
        "        super().__init__(make, model, year)\n",
        "        # self.battery_size = 70\n",
        "        self.battery = Battery()\n",
        "\n",
        "    # def describe_battery(self):\n",
        "    #     # Print a statement describing the battery size.\n",
        "    #     print(\"This car has a \" + str(self.battery_size) + \"-kWh battery.\")\n",
        "\n",
        "    def fill_gas_tank(self):\n",
        "        # Electric cars don't have gas tanks.\n",
        "        print(\"This car doesn\\'t need a gas tank!\")\n",
        "\n",
        "\n",
        "car1 = ElectricCar('tesla', 'model n', '2027')\n",
        "\n",
        "print(f\"--- UPGRADING THE BATTERY TO 100-kWh ---\")\n",
        "car1.battery.upgrade_battery()\n",
        "\n",
        "\n",
        "car1.battery.get_range()\n"
      ],
      "metadata": {
        "colab": {
          "base_uri": "https://localhost:8080/"
        },
        "id": "XoVCaKi1AwcE",
        "outputId": "aa1b61f4-3fbb-491d-d88c-9d17c95b29d2"
      },
      "execution_count": null,
      "outputs": [
        {
          "output_type": "stream",
          "name": "stdout",
          "text": [
            "--- UPGRADING THE BATTERY TO 100-kWh ---\n",
            "This car can go approximately 315 miles on a full charge.\n"
          ]
        }
      ]
    },
    {
      "cell_type": "markdown",
      "source": [
        "##9-10 Imported Restaurant"
      ],
      "metadata": {
        "id": "rvHwGw4Jdq-k"
      }
    },
    {
      "cell_type": "code",
      "source": [
        "from restaurant import Restaurant\n",
        "\n",
        "channel_club = Restaurant('the channel club', 'steak and seafood')\n",
        "channel_club.describe_restaurant()\n",
        "channel_club.open_restaurant()"
      ],
      "metadata": {
        "id": "4tN1mEXYdtTD"
      },
      "execution_count": null,
      "outputs": []
    },
    {
      "cell_type": "markdown",
      "source": [
        "##9-11 Imported Admin"
      ],
      "metadata": {
        "id": "13xSeuubdtbS"
      }
    },
    {
      "cell_type": "code",
      "source": [
        "from user import Admin\n",
        "\n",
        "eric = Admin('eric', 'matthes', 'e_matthes', 'e_matthes@example.com', 'alaska')\n",
        "eric.describe_user()\n",
        "\n",
        "eric_privileges = [\n",
        "    'can reset passwords',\n",
        "    'can moderate discussions',\n",
        "    'can suspend accounts',\n",
        "    ]\n",
        "eric.privileges.privileges = eric_privileges\n",
        "\n",
        "print(f\"\\nThe admin {eric.username} has these privileges: \")\n",
        "eric.privileges.show_privileges()"
      ],
      "metadata": {
        "id": "fyzW-Ob5dvCR"
      },
      "execution_count": null,
      "outputs": []
    },
    {
      "cell_type": "markdown",
      "source": [
        "##9-12 Multiple Modules"
      ],
      "metadata": {
        "id": "c5xRO7Nbdvcp"
      }
    },
    {
      "cell_type": "code",
      "source": [
        "\"\"\"A collection of classes for modeling an admin user account.\"\"\"\n",
        "\n",
        "from user import User\n",
        "\n",
        "\n",
        "class Admin(User):\n",
        "    \"\"\"A user with administrative privileges.\"\"\"\n",
        "\n",
        "    def __init__(self, first_name, last_name, username, email, location):\n",
        "        \"\"\"Initialize the admin.\"\"\"\n",
        "        super().__init__(first_name, last_name, username, email, location)\n",
        "        \n",
        "        # Initialize an empty set of privileges.\n",
        "        self.privileges = Privileges()\n",
        "\n",
        "\n",
        "class Privileges():\n",
        "    \"\"\"A class to store an admin's privileges.\"\"\"\n",
        "\n",
        "    def __init__(self, privileges=[]):\n",
        "        self.privileges = privileges\n",
        "\n",
        "    def show_privileges(self):\n",
        "        print(\"\\nPrivileges:\")\n",
        "        if self.privileges:\n",
        "            for privilege in self.privileges:\n",
        "                print(f\"- {privilege}\")\n",
        "        else:\n",
        "            print(\"- This user has no privileges.\")"
      ],
      "metadata": {
        "id": "2gro_5ZHsFxu"
      },
      "execution_count": null,
      "outputs": []
    },
    {
      "cell_type": "code",
      "source": [
        "from admin import Admin\n",
        "\n",
        "eric = Admin('eric', 'matthes', 'e_matthes', 'e_matthes@example.com', 'alaska')\n",
        "eric.describe_user()\n",
        "\n",
        "eric_privileges = [\n",
        "    'can reset passwords',\n",
        "    'can moderate discussions',\n",
        "    'can suspend accounts',\n",
        "    ]\n",
        "eric.privileges.privileges = eric_privileges\n",
        "\n",
        "print(f\"\\nThe admin {eric.username} has these privileges: \")\n",
        "eric.privileges.show_privileges()"
      ],
      "metadata": {
        "id": "5sxf7-NVdvjH"
      },
      "execution_count": null,
      "outputs": []
    },
    {
      "cell_type": "markdown",
      "source": [
        "##9-13 Dice"
      ],
      "metadata": {
        "id": "eqBLWLOjeOGH"
      }
    },
    {
      "cell_type": "code",
      "source": [
        "from random import randint\n",
        "\n",
        "\n",
        "\n",
        "class Die:\n",
        "\n",
        "  def __init__(self, sides=6):\n",
        "    self.sides = sides\n",
        "\n",
        "  def roll_die(self):\n",
        "    return randint(1, self.sides)\n",
        "\n",
        "dice6 = Die()\n",
        "\n",
        "results = []\n",
        "\n",
        "for rolls in range(10):\n",
        "  result = dice6.roll_die()\n",
        "  results.append(result)\n",
        "\n",
        "print(\"10 rolls of a 6 sided die: \")\n",
        "\n",
        "print(results)\n",
        "\n",
        "  "
      ],
      "metadata": {
        "id": "2JNrSOGSeVU-",
        "colab": {
          "base_uri": "https://localhost:8080/"
        },
        "outputId": "f59f06e1-2070-4099-fba3-615962d7d61a"
      },
      "execution_count": null,
      "outputs": [
        {
          "output_type": "stream",
          "name": "stdout",
          "text": [
            "10 rolls of a 6 sided die: \n",
            "[4, 5, 5, 1, 4, 1, 2, 5, 5, 2]\n"
          ]
        }
      ]
    },
    {
      "cell_type": "markdown",
      "source": [
        "##9-14 Lottery"
      ],
      "metadata": {
        "id": "22DqTpP8eVpz"
      }
    },
    {
      "cell_type": "code",
      "source": [
        "from random import randint, choice\n",
        "\n",
        "\n",
        "lotterynumbers = (2, 6, 3, 2, 5, 8, 9, 62, 99, 78)\n",
        "results = []\n",
        "\n",
        "\n",
        "while len(results) < 4:\n",
        "  result = choice(lotterynumbers)\n",
        "\n",
        "  if result not in results:\n",
        "    print(f\"We pulled the ticket {result}!\")\n",
        "    results.append(result)\n",
        "\n",
        "\n",
        "\n",
        "\n",
        "\n",
        "\n"
      ],
      "metadata": {
        "id": "fyM9MgJFeWZn",
        "colab": {
          "base_uri": "https://localhost:8080/"
        },
        "outputId": "784dd56e-de3f-4b9a-936b-0b5e4e6a7cd6"
      },
      "execution_count": null,
      "outputs": [
        {
          "output_type": "stream",
          "name": "stdout",
          "text": [
            "We pulled the ticket 2!\n",
            "We pulled the ticket 5!\n",
            "We pulled the ticket 99!\n",
            "We pulled the ticket 78!\n"
          ]
        }
      ]
    },
    {
      "cell_type": "markdown",
      "source": [
        "##9-15 Lottery Analysis"
      ],
      "metadata": {
        "id": "79BhuedfeWeD"
      }
    },
    {
      "cell_type": "code",
      "source": [
        "from random import randint, choice\n",
        "\n",
        "def get_winning_ticket(possibilities):\n",
        "  \"\"\" Return a winning ticket from a set of possibilities.\"\"\"\n",
        "\n",
        "  winning_ticket = []\n",
        "\n",
        "  while len(winning_ticket) < 4:\n",
        "    pulled_item = choice(possibilities)\n",
        "\n",
        "    if pulled_item not in winning_ticket:\n",
        "      winning_ticket.append(pulled_item)\n",
        "\n",
        "  return winning_ticket\n",
        "\n",
        "def check_ticket(played_ticket, winning_ticket):\n",
        "  # Check all elements in the played ticket. \n",
        "  # If they are not in the winning ticket, return False.\n",
        "  for element in played_ticket:\n",
        "    if element not in winning_ticket:\n",
        "      return False\n",
        "\n",
        "  \n",
        "  return True\n",
        "\n",
        "\n",
        "def make_random_ticket(possibilities):\n",
        "  \"\"\" Return a random ticket from a set of possibilities. \"\"\"\n",
        "\n",
        "  ticket = []\n",
        "\n",
        "  # We don't want to repeat numbers or letters, so we'll use a while loop.\n",
        "  while len(ticket) < 4:\n",
        "    pulled_item = choice(possibilities)\n",
        "\n",
        "    # Only add the pulled item to the ticket if it hasn't already\n",
        "    # been pulled.\n",
        "    if pulled_item not in ticket:\n",
        "      ticket.append(pulled_item)\n",
        "\n",
        "  return ticket\n",
        "\n",
        "\n",
        "possibilities = [1, 2, 3, 4, 5, 6, 7, 8, 9, 10, 'a', 'b', 'c', 'd', 'e']\n",
        "winning_ticket = get_winning_ticket(possibilities)\n",
        "\n",
        "plays = 0\n",
        "won = False\n",
        "\n",
        "# Create a variable that sets a max number of tries\n",
        "\n",
        "max_tries = 5000\n",
        "\n",
        "while not won:\n",
        "  new_ticket = make_random_ticket(possibilities)\n",
        "  won = check_ticket(new_ticket, winning_ticket)\n",
        "  plays += 1\n",
        "  if plays >= max_tries:\n",
        "    break\n",
        "\n",
        "if won:\n",
        "  print(\"We have a winning ticket!\")\n",
        "  print(f\"Your ticket: {new_ticket}\")\n",
        "  print(f\"Winning ticket: {winning_ticket}\")\n",
        "  print(f\"It only took {plays} tries to win!\")\n",
        "else:\n",
        "  print(f\"Tried {plays} times, without pulling a winner. :( \")\n",
        "  print(f\"Your ticket: {new_ticket}\")\n",
        "  print(f\"Winning ticket: {winning_ticket}\")\n",
        "\n",
        "\n"
      ],
      "metadata": {
        "id": "eo4-U1fkeZlR",
        "colab": {
          "base_uri": "https://localhost:8080/"
        },
        "outputId": "6feca095-2b8d-4336-84de-51cc1c0f9c46"
      },
      "execution_count": 17,
      "outputs": [
        {
          "output_type": "stream",
          "name": "stdout",
          "text": [
            "We have a winning ticket!\n",
            "Your ticket: ['d', 'a', 1, 10]\n",
            "Winning ticket: [10, 'a', 'd', 1]\n",
            "It only took 2672 tries to win!\n"
          ]
        }
      ]
    },
    {
      "cell_type": "markdown",
      "source": [
        "##9-16 Python Module of the Week"
      ],
      "metadata": {
        "id": "HH_kZv6VeaWe"
      }
    },
    {
      "cell_type": "code",
      "source": [
        "\"\"\" One excellent resource for exploring the Python standard library is a site called \n",
        "Python Module of the Week. Goto https://pymotw.com/ and look at the table of contents. \n",
        "Find a module that looks interesting to you and read about it, perhaps starting with the random module \"\"\"\n"
      ],
      "metadata": {
        "id": "fmAMiP1AeatC",
        "colab": {
          "base_uri": "https://localhost:8080/",
          "height": 54
        },
        "outputId": "983e2f8b-d6a4-40b8-dba3-4eed60e1c1c7"
      },
      "execution_count": 19,
      "outputs": [
        {
          "output_type": "execute_result",
          "data": {
            "application/vnd.google.colaboratory.intrinsic+json": {
              "type": "string"
            },
            "text/plain": [
              "' One excellent resource for exploring the Python standard library is a site called \\nPython Module of the Week. Goto https://pymotw.com/ and look at the table of contents. \\nFind a module that looks interesting to you and read about it, perhaps starting with the random module '"
            ]
          },
          "metadata": {},
          "execution_count": 19
        }
      ]
    }
  ]
}