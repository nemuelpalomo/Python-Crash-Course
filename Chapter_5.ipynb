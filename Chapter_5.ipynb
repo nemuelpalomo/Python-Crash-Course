{
  "nbformat": 4,
  "nbformat_minor": 0,
  "metadata": {
    "colab": {
      "name": "Chapter 5.ipynb",
      "provenance": [],
      "collapsed_sections": [
        "SqTRfPnKDaX2"
      ],
      "authorship_tag": "ABX9TyNqSxEkM3M70ElDKWfEWPov",
      "include_colab_link": true
    },
    "kernelspec": {
      "name": "python3",
      "display_name": "Python 3"
    },
    "language_info": {
      "name": "python"
    }
  },
  "cells": [
    {
      "cell_type": "markdown",
      "metadata": {
        "id": "view-in-github",
        "colab_type": "text"
      },
      "source": [
        "<a href=\"https://colab.research.google.com/github/nemuelpalomo/Python-Crash-Course/blob/main/Chapter_5.ipynb\" target=\"_parent\"><img src=\"https://colab.research.google.com/assets/colab-badge.svg\" alt=\"Open In Colab\"/></a>"
      ]
    },
    {
      "cell_type": "markdown",
      "source": [
        "##5-1 Conditional Tests"
      ],
      "metadata": {
        "id": "SqTRfPnKDaX2"
      }
    },
    {
      "cell_type": "code",
      "execution_count": 18,
      "metadata": {
        "colab": {
          "base_uri": "https://localhost:8080/"
        },
        "id": "31G_IPEO_Tuw",
        "outputId": "c3b70cf9-aa6f-47db-e6f2-cf93e7a03424"
      },
      "outputs": [
        {
          "output_type": "stream",
          "name": "stdout",
          "text": [
            "Is the car a ferrari? I think it is True.\n",
            "\n",
            "True\n",
            "\n",
            "The car is not a 'bmw', Are you sure? I think it is True.\n",
            "\n",
            "True\n",
            "\n",
            "Are both numbers Equal? True\n",
            "True\n",
            "\n",
            "The car #3 is a Honda.\n",
            "False\n",
            "\n",
            "The car #4 is not a ford, its a toyota. So the answer is False\n",
            "False\n",
            "\n",
            "num3 and num4 are equal\n",
            "False\n"
          ]
        }
      ],
      "source": [
        "#True\n",
        "\n",
        "car = \"ferrari\"\n",
        "\n",
        "print(f\"Is the car a ferrari? I think it is True.\\n\")\n",
        "print(car == \"ferrari\")\n",
        "\n",
        "car2 = \"bmw\"\n",
        "print(f\"\\nThe car is not a 'bmw', Are you sure? I think it is True.\\n\")\n",
        "print(car2 == \"bmw\")\n",
        "\n",
        "num1 = 52\n",
        "num2 = 32+20\n",
        "print(f\"\\nAre both numbers Equal? True\")\n",
        "print(num1 == num2)\n",
        "\n",
        "#False\n",
        "\n",
        "car3 = \"lamborghini\"\n",
        "print(f\"\\nThe car #3 is a Honda.\")\n",
        "print(car3 == \"honda\")\n",
        "\n",
        "car4 = \"toyota\"\n",
        "print(f\"\\nThe car #4 is not a ford, its a toyota. So the answer is False\")\n",
        "print(car4 == \"ford\")\n",
        "\n",
        "num3 = 21\n",
        "num4 = 22\n",
        "print(f\"\\nnum3 and num4 are equal\")\n",
        "print(num3 == num4)"
      ]
    },
    {
      "cell_type": "markdown",
      "source": [
        "##5-2 More Conditional Tests"
      ],
      "metadata": {
        "id": "zwsAfPy-DixL"
      }
    },
    {
      "cell_type": "code",
      "source": [
        "string1 = \"hahaha\"\n",
        "string2 = \"HAHAHA\"\n",
        "\n",
        "print(f\"String 1 and String 2 are not the same because of upper case and lower case so it is {string1 == string2}.\")\n",
        "\n",
        "print(f\"\\n Now that we set string2 to .lower() which makes the variable all lower case the result is now {string1 == string2.lower()}.\")"
      ],
      "metadata": {
        "colab": {
          "base_uri": "https://localhost:8080/"
        },
        "id": "uf2L6Mu3Dnrd",
        "outputId": "f29e5601-6a62-471b-c55b-8ff59742f280"
      },
      "execution_count": 32,
      "outputs": [
        {
          "output_type": "stream",
          "name": "stdout",
          "text": [
            "String 1 and String 2 are not the same because of upper case and lower case so it is False.\n",
            "\n",
            " Now that we set string2 to .lower() which makes the variable all lower case the result is now True.\n"
          ]
        }
      ]
    },
    {
      "cell_type": "code",
      "source": [
        "number = 52\n",
        "number_1 = 32\n",
        "number_2 = 22\n",
        "equalizer = [52, 32, 22]\n",
        "\n",
        "print(f\"52 >= 32? {(number) >= (number_1)}.\\n\")\n",
        "print(f\"52 <= 22? {(number) <= (number_2)}.\\n\")\n",
        "print(f\"52 = 52? {(equalizer[0]) == (number)}.\\n\")\n",
        "\n",
        "\n",
        "#Using the 'and' condition, must be both true.\n",
        "\n",
        "print(f\"52 = 52 and 32 = 32? {number == equalizer[0] and equalizer[1] == number_1}.\\n\")    \n",
        "\n",
        "#Using the 'or' condition, it will become true whether one of the statements are false.\n",
        "\n",
        "print(f\"22 = 22 or 32 >= 52? {equalizer[2] == number_2 or number_1 >= equalizer[1]}.\")  "
      ],
      "metadata": {
        "colab": {
          "base_uri": "https://localhost:8080/"
        },
        "id": "kN2N8PR3GqyT",
        "outputId": "3fad20c0-9eb5-4024-945a-e252ba9e648a"
      },
      "execution_count": 54,
      "outputs": [
        {
          "output_type": "stream",
          "name": "stdout",
          "text": [
            "52 >= 32? True.\n",
            "\n",
            "52 <= 22? False.\n",
            "\n",
            "52 = 52? True.\n",
            "\n",
            "52 = 52 and 32 = 32? True.\n",
            "\n",
            "22 = 22 or 32 >= 52? True.\n"
          ]
        }
      ]
    },
    {
      "cell_type": "code",
      "source": [
        "list1 = [1, 2, 3, 4, 5]\n",
        "\n",
        "if 1 in list1:               #In the list? Tawa ka\n",
        "  print(\"AHAHAHA\\n\")\n",
        "\n",
        "if 6 not in list1:           #Not in the list? Gago \n",
        "  print(\"WALA GAGO\")"
      ],
      "metadata": {
        "colab": {
          "base_uri": "https://localhost:8080/"
        },
        "id": "XW8Z2poyKndU",
        "outputId": "28c00407-2f4c-440f-8d80-fba474e1b343"
      },
      "execution_count": 58,
      "outputs": [
        {
          "output_type": "stream",
          "name": "stdout",
          "text": [
            "AHAHAHA\n",
            "\n",
            "WALA GAGO\n"
          ]
        }
      ]
    },
    {
      "cell_type": "markdown",
      "source": [
        "##5-3 Alien Colors #1"
      ],
      "metadata": {
        "id": "Dj4iPVArPJQ5"
      }
    },
    {
      "cell_type": "code",
      "source": [
        "alien_color = 'green'\n",
        "\n",
        "#The if statement passes the test, therefore we got an output.\n",
        "\n",
        "if alien_color == 'green':\n",
        "  print(\"You just got 5 pts!\")\n",
        "\n",
        "#The if statement failed the test, there we got no output.\n",
        "\n",
        "if alien_color == 'red':         \n",
        "  print(\"You just got 3 pts!\")"
      ],
      "metadata": {
        "colab": {
          "base_uri": "https://localhost:8080/"
        },
        "id": "uU47_ZNnPNfl",
        "outputId": "779582dc-0c66-41d8-96a0-bbe0158a9d5e"
      },
      "execution_count": 61,
      "outputs": [
        {
          "output_type": "stream",
          "name": "stdout",
          "text": [
            "You just got 5 pts!\n"
          ]
        }
      ]
    },
    {
      "cell_type": "markdown",
      "source": [
        "##5-4 Alien Colors #2\n"
      ],
      "metadata": {
        "id": "1z6SMNFDPvkB"
      }
    },
    {
      "cell_type": "code",
      "source": [
        "#If statements to output every if test whatever color it is.\n",
        "\n",
        "\n",
        "alien_color_green = 'green'\n",
        "alien_color_red = 'red'\n",
        "alien_color_blue = 'blue'\n",
        "\n",
        "if alien_color_green == 'green':\n",
        "  print(\"You just got 10pts!\")\n",
        "if alien_color_red == 'red':\n",
        "  print(\"You just got 5pts!\")\n",
        "if alien_color_blue == 'blue':\n",
        "  print(\"You just got 3pts!\\n\")\n",
        "\n",
        "\n",
        "\n",
        "\n",
        "\n",
        "#For loop until the green alien is shot.\n",
        "\n",
        "alien_color = ['red', 'blue', 'green']\n",
        "\n",
        "for color in alien_color:\n",
        "  if color == 'green':\n",
        "    print(\"You just shot the green one!\")\n",
        "  else:\n",
        "    print(\"You missed the green one!\")\n"
      ],
      "metadata": {
        "colab": {
          "base_uri": "https://localhost:8080/"
        },
        "id": "lfadENI0Pyel",
        "outputId": "8790a3a7-60e4-406d-8055-4064d1c34a05"
      },
      "execution_count": 71,
      "outputs": [
        {
          "output_type": "stream",
          "name": "stdout",
          "text": [
            "You just got 10pts!\n",
            "You just got 5pts!\n",
            "You just got 3pts!\n",
            "\n",
            "You missed the green one!\n",
            "You missed the green one!\n",
            "You just shot the green one!\n"
          ]
        }
      ]
    },
    {
      "cell_type": "markdown",
      "source": [
        "##5-5 Alien Colors #3"
      ],
      "metadata": {
        "id": "21XCr50sRh3J"
      }
    },
    {
      "cell_type": "code",
      "source": [
        "alien_kulay = 'yellow'\n",
        "\n",
        "if alien_kulay == 'green':\n",
        "  print(\"The player earned 5pts\")\n",
        "elif alien_kulay == 'red':\n",
        "  print(\"The player earned 15pts\")\n",
        "else:\n",
        "  print(\"The player killed the yellow one and earned 10 pts.\")"
      ],
      "metadata": {
        "colab": {
          "base_uri": "https://localhost:8080/"
        },
        "id": "0KXFC1aARlSX",
        "outputId": "483e1bfc-db89-4ba9-abab-bc1a2ae49548"
      },
      "execution_count": 73,
      "outputs": [
        {
          "output_type": "stream",
          "name": "stdout",
          "text": [
            "The player killed the yellow one and earned 10 pts.\n"
          ]
        }
      ]
    },
    {
      "cell_type": "code",
      "source": [
        "age = 22\n",
        "\n",
        "if age < 2:\n",
        "  print(\"He's a baby.\")\n",
        "elif age < 4:\n",
        "  print(\"He's a toddler.\")\n",
        "elif age < 13:\n",
        "  print(\"He's a kid.\")\n",
        "elif age < 20:\n",
        "  print(\"He's a teenager.\")\n",
        "elif age < 65:\n",
        "  print(\"He's an adult.\")\n",
        "else:\n",
        "  print(\"He's an elder!\")"
      ],
      "metadata": {
        "colab": {
          "base_uri": "https://localhost:8080/"
        },
        "id": "0WvkagwbSmMr",
        "outputId": "4c4f2ca5-f945-4cbd-b20d-582de8810a39"
      },
      "execution_count": 79,
      "outputs": [
        {
          "output_type": "stream",
          "name": "stdout",
          "text": [
            "He's an adult.\n"
          ]
        }
      ]
    },
    {
      "cell_type": "markdown",
      "source": [
        "##5-7 Favorite Fruit\n"
      ],
      "metadata": {
        "id": "iXcR2HChUrzm"
      }
    },
    {
      "cell_type": "code",
      "source": [
        "#Independent if statements\n",
        "\n",
        "\n",
        "paboritong_prutas = ['saging', 'mansanas', 'ubas']\n",
        "\n",
        "if 'saging' in paboritong_prutas:\n",
        "  print(\"Mahilig ka sa saging tropa!\\n\")\n",
        "if 'mansanas' in paboritong_prutas:\n",
        "  print(\"Abay mahilig ka din sa mansanas!\\n\")\n",
        "if 'ubas' in paboritong_prutas:\n",
        "  print(\"Tarap nyan lods ubas.\\n\")\n",
        "if 'ponkan' not in paboritong_prutas:\n",
        "  print(\"Yots di mahilig sa ponkan... :(\")"
      ],
      "metadata": {
        "colab": {
          "base_uri": "https://localhost:8080/"
        },
        "id": "TDIHVxkQUum3",
        "outputId": "48152173-f3c2-4774-c624-3d63e4c65e16"
      },
      "execution_count": 82,
      "outputs": [
        {
          "output_type": "stream",
          "name": "stdout",
          "text": [
            "Mahilig ka sa saging tropa!\n",
            "\n",
            "Abay mahilig ka din sa mansanas!\n",
            "\n",
            "Tarap nyan lods ubas.\n",
            "\n",
            "Yots di mahilig sa ponkan... :(\n"
          ]
        }
      ]
    },
    {
      "cell_type": "markdown",
      "source": [
        "##5-8 Hello Admin"
      ],
      "metadata": {
        "id": "2ly2-4f1Xhyt"
      }
    },
    {
      "cell_type": "code",
      "source": [
        "usernames = ['Nemuel', 'Rico', 'Liam', \"Hem\", 'Admin']\n",
        "\n",
        "for users in usernames:\n",
        "  if users.lower() == 'admin':\n",
        "    print(\"Hello Admin! Would you like to see a status report?\\n\")\n",
        "  else:\n",
        "    print(f\"Hello {users.title()}, How are you today?\")"
      ],
      "metadata": {
        "colab": {
          "base_uri": "https://localhost:8080/"
        },
        "id": "xS9ZBQHYXrWy",
        "outputId": "bc8cadb2-ab93-4b7c-8cfb-f587e0c7c8f8"
      },
      "execution_count": 84,
      "outputs": [
        {
          "output_type": "stream",
          "name": "stdout",
          "text": [
            "Hello Nemuel, How are you today?\n",
            "Hello Rico, How are you today?\n",
            "Hello Liam, How are you today?\n",
            "Hello Hem, How are you today?\n",
            "Hello Admin! Would you like to see a status report?\n",
            "\n"
          ]
        }
      ]
    },
    {
      "cell_type": "markdown",
      "source": [
        "##5-9 No Users"
      ],
      "metadata": {
        "id": "INdHrA4uYn5G"
      }
    },
    {
      "cell_type": "code",
      "source": [
        "emptyusers = []\n",
        "\n",
        "for users in emptyusers:\n",
        "  if users == 'admin':\n",
        "    print(\"Hello Admin!\")\n",
        "  else:\n",
        "    print(f\"Hello {users}!\")\n",
        "else:\n",
        "    print(\"We need to find some users!\")"
      ],
      "metadata": {
        "colab": {
          "base_uri": "https://localhost:8080/"
        },
        "id": "i56XmyTfYuT_",
        "outputId": "d39e8585-2245-4245-9b21-329b4bf0e508"
      },
      "execution_count": 87,
      "outputs": [
        {
          "output_type": "stream",
          "name": "stdout",
          "text": [
            "We need to find some users!\n"
          ]
        }
      ]
    },
    {
      "cell_type": "markdown",
      "source": [
        "##5-10 Checking Usernames"
      ],
      "metadata": {
        "id": "pWj1hJjoa8I_"
      }
    },
    {
      "cell_type": "code",
      "source": [
        "current_users = ['jologs', 'barkos', 'betlogs', 'tologs', 'jeprox']\n",
        "\n",
        "new_users = ['burgok', 'jologs', 'awitzz', 'klong', 'jeprox', 0.2]\n",
        "\n",
        "for user in new_users:\n",
        "  if user in current_users:\n",
        "    print(f\"Isip ka ng bago gamit na yan tropa, '{user}'.\\n\")\n",
        "  elif user not in current_users:\n",
        "    print(f\"'{user}', Pwede to tropa wala pang nakakagamit :)\\n\")\n",
        "  else: \n",
        "    print(\"Ano yan lods?\")\n",
        "\n"
      ],
      "metadata": {
        "colab": {
          "base_uri": "https://localhost:8080/"
        },
        "id": "MeSbPDyfa_iV",
        "outputId": "39206ff8-fb43-42e1-e566-ee8725053d3b"
      },
      "execution_count": 98,
      "outputs": [
        {
          "output_type": "stream",
          "name": "stdout",
          "text": [
            "'burgok', Pwede to tropa wala pang nakakagamit :)\n",
            "\n",
            "Isip ka ng bago gamit na yan tropa, 'jologs'.\n",
            "\n",
            "'awitzz', Pwede to tropa wala pang nakakagamit :)\n",
            "\n",
            "'klong', Pwede to tropa wala pang nakakagamit :)\n",
            "\n",
            "Isip ka ng bago gamit na yan tropa, 'jeprox'.\n",
            "\n",
            "'0.2', Pwede to tropa wala pang nakakagamit :)\n",
            "\n"
          ]
        }
      ]
    },
    {
      "cell_type": "markdown",
      "source": [
        "##5-11 Ordinal Numbers"
      ],
      "metadata": {
        "id": "Eoss9kQWcwbI"
      }
    },
    {
      "cell_type": "code",
      "source": [
        "number_list = [1, 2, 3, 4, 5, 6, 7, 8, 9]\n",
        "\n",
        "for number in number_list:\n",
        "  if number == 1:\n",
        "    print(\"1st\")\n",
        "  elif number == 2:\n",
        "    print(\"2nd\")\n",
        "  elif number == 3:\n",
        "    print(\"3rd\")\n",
        "  else:\n",
        "    print(f\"{number}th\")"
      ],
      "metadata": {
        "colab": {
          "base_uri": "https://localhost:8080/"
        },
        "id": "FcWdH4fkcwKC",
        "outputId": "913a45e5-41bd-43b3-a1b7-d8939f6e1fe1"
      },
      "execution_count": 101,
      "outputs": [
        {
          "output_type": "stream",
          "name": "stdout",
          "text": [
            "1st\n",
            "2nd\n",
            "3rd\n",
            "4th\n",
            "5th\n",
            "6th\n",
            "7th\n",
            "8th\n",
            "9th\n"
          ]
        }
      ]
    }
  ]
}