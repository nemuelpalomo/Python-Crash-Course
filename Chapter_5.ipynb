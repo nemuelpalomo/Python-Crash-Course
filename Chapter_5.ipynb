{
  "nbformat": 4,
  "nbformat_minor": 0,
  "metadata": {
    "colab": {
      "name": "Chapter 5.ipynb",
      "provenance": [],
      "collapsed_sections": [
        "SqTRfPnKDaX2"
      ],
      "authorship_tag": "ABX9TyPS4ziJs6cnmDdxPOFGytBn",
      "include_colab_link": true
    },
    "kernelspec": {
      "name": "python3",
      "display_name": "Python 3"
    },
    "language_info": {
      "name": "python"
    }
  },
  "cells": [
    {
      "cell_type": "markdown",
      "metadata": {
        "id": "view-in-github",
        "colab_type": "text"
      },
      "source": [
        "<a href=\"https://colab.research.google.com/github/nemuelpalomo/Python-Crash-Course/blob/main/Chapter_5.ipynb\" target=\"_parent\"><img src=\"https://colab.research.google.com/assets/colab-badge.svg\" alt=\"Open In Colab\"/></a>"
      ]
    },
    {
      "cell_type": "markdown",
      "source": [
        "##5-1 Conditional Tests"
      ],
      "metadata": {
        "id": "SqTRfPnKDaX2"
      }
    },
    {
      "cell_type": "code",
      "execution_count": 18,
      "metadata": {
        "colab": {
          "base_uri": "https://localhost:8080/"
        },
        "id": "31G_IPEO_Tuw",
        "outputId": "c3b70cf9-aa6f-47db-e6f2-cf93e7a03424"
      },
      "outputs": [
        {
          "output_type": "stream",
          "name": "stdout",
          "text": [
            "Is the car a ferrari? I think it is True.\n",
            "\n",
            "True\n",
            "\n",
            "The car is not a 'bmw', Are you sure? I think it is True.\n",
            "\n",
            "True\n",
            "\n",
            "Are both numbers Equal? True\n",
            "True\n",
            "\n",
            "The car #3 is a Honda.\n",
            "False\n",
            "\n",
            "The car #4 is not a ford, its a toyota. So the answer is False\n",
            "False\n",
            "\n",
            "num3 and num4 are equal\n",
            "False\n"
          ]
        }
      ],
      "source": [
        "#True\n",
        "\n",
        "car = \"ferrari\"\n",
        "\n",
        "print(f\"Is the car a ferrari? I think it is True.\\n\")\n",
        "print(car == \"ferrari\")\n",
        "\n",
        "car2 = \"bmw\"\n",
        "print(f\"\\nThe car is not a 'bmw', Are you sure? I think it is True.\\n\")\n",
        "print(car2 == \"bmw\")\n",
        "\n",
        "num1 = 52\n",
        "num2 = 32+20\n",
        "print(f\"\\nAre both numbers Equal? True\")\n",
        "print(num1 == num2)\n",
        "\n",
        "#False\n",
        "\n",
        "car3 = \"lamborghini\"\n",
        "print(f\"\\nThe car #3 is a Honda.\")\n",
        "print(car3 == \"honda\")\n",
        "\n",
        "car4 = \"toyota\"\n",
        "print(f\"\\nThe car #4 is not a ford, its a toyota. So the answer is False\")\n",
        "print(car4 == \"ford\")\n",
        "\n",
        "num3 = 21\n",
        "num4 = 22\n",
        "print(f\"\\nnum3 and num4 are equal\")\n",
        "print(num3 == num4)"
      ]
    },
    {
      "cell_type": "markdown",
      "source": [
        "##5-2 More Conditional Tests"
      ],
      "metadata": {
        "id": "zwsAfPy-DixL"
      }
    },
    {
      "cell_type": "code",
      "source": [
        "string1 = \"hahaha\"\n",
        "string2 = \"HAHAHA\"\n",
        "\n",
        "print(f\"String 1 and String 2 are not the same because of upper case and lower case so it is {string1 == string2}.\")\n",
        "\n",
        "print(f\"\\n Now that we set string2 to .lower() which makes the variable all lower case the result is now {string1 == string2.lower()}.\")"
      ],
      "metadata": {
        "colab": {
          "base_uri": "https://localhost:8080/"
        },
        "id": "uf2L6Mu3Dnrd",
        "outputId": "f29e5601-6a62-471b-c55b-8ff59742f280"
      },
      "execution_count": 32,
      "outputs": [
        {
          "output_type": "stream",
          "name": "stdout",
          "text": [
            "String 1 and String 2 are not the same because of upper case and lower case so it is False.\n",
            "\n",
            " Now that we set string2 to .lower() which makes the variable all lower case the result is now True.\n"
          ]
        }
      ]
    },
    {
      "cell_type": "code",
      "source": [
        "number = 52\n",
        "number_1 = 32\n",
        "number_2 = 22\n",
        "equalizer = [52, 32, 22]\n",
        "\n",
        "print(f\"52 >= 32? {(number) >= (number_1)}.\\n\")\n",
        "print(f\"52 <= 22? {(number) <= (number_2)}.\\n\")\n",
        "print(f\"52 = 52? {(equalizer[0]) == (number)}.\\n\")\n",
        "\n",
        "\n",
        "#Using the 'and' condition, must be both true.\n",
        "\n",
        "print(f\"52 = 52 and 32 = 32? {number == equalizer[0] and equalizer[1] == number_1}.\\n\")    \n",
        "\n",
        "#Using the 'or' condition, it will become true whether one of the statements are false.\n",
        "\n",
        "print(f\"22 = 22 or 32 >= 52? {equalizer[2] == number_2 or number_1 >= equalizer[1]}.\")  "
      ],
      "metadata": {
        "colab": {
          "base_uri": "https://localhost:8080/"
        },
        "id": "kN2N8PR3GqyT",
        "outputId": "3fad20c0-9eb5-4024-945a-e252ba9e648a"
      },
      "execution_count": 54,
      "outputs": [
        {
          "output_type": "stream",
          "name": "stdout",
          "text": [
            "52 >= 32? True.\n",
            "\n",
            "52 <= 22? False.\n",
            "\n",
            "52 = 52? True.\n",
            "\n",
            "52 = 52 and 32 = 32? True.\n",
            "\n",
            "22 = 22 or 32 >= 52? True.\n"
          ]
        }
      ]
    },
    {
      "cell_type": "code",
      "source": [
        "list1 = [1, 2, 3, 4, 5]\n",
        "\n",
        "if 1 in list1:               #In the list? Tawa ka\n",
        "  print(\"AHAHAHA\\n\")\n",
        "\n",
        "if 6 not in list1:           #Not in the list? Gago \n",
        "  print(\"WALA GAGO\")"
      ],
      "metadata": {
        "colab": {
          "base_uri": "https://localhost:8080/"
        },
        "id": "XW8Z2poyKndU",
        "outputId": "28c00407-2f4c-440f-8d80-fba474e1b343"
      },
      "execution_count": 58,
      "outputs": [
        {
          "output_type": "stream",
          "name": "stdout",
          "text": [
            "AHAHAHA\n",
            "\n",
            "WALA GAGO\n"
          ]
        }
      ]
    }
  ]
}