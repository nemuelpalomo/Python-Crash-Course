{
  "nbformat": 4,
  "nbformat_minor": 0,
  "metadata": {
    "colab": {
      "name": "Chapter 7.ipynb",
      "provenance": [],
      "collapsed_sections": [],
      "authorship_tag": "ABX9TyM6fD/914VmNqX1jtgWExxE",
      "include_colab_link": true
    },
    "kernelspec": {
      "name": "python3",
      "display_name": "Python 3"
    },
    "language_info": {
      "name": "python"
    }
  },
  "cells": [
    {
      "cell_type": "markdown",
      "metadata": {
        "id": "view-in-github",
        "colab_type": "text"
      },
      "source": [
        "<a href=\"https://colab.research.google.com/github/nemuelpalomo/Python-Crash-Course/blob/main/Chapter_7.ipynb\" target=\"_parent\"><img src=\"https://colab.research.google.com/assets/colab-badge.svg\" alt=\"Open In Colab\"/></a>"
      ]
    },
    {
      "cell_type": "markdown",
      "source": [
        "##7-1 Rental Car"
      ],
      "metadata": {
        "id": "qAPChqGW6b3s"
      }
    },
    {
      "cell_type": "code",
      "execution_count": 5,
      "metadata": {
        "colab": {
          "base_uri": "https://localhost:8080/"
        },
        "id": "nkxhz-J74tgK",
        "outputId": "4f4df7f3-24ee-4276-b760-3433383f5d45"
      },
      "outputs": [
        {
          "output_type": "stream",
          "name": "stdout",
          "text": [
            "What kind of rental car would you like? \n",
            "Lambo\n",
            "\n",
            "Let me see if I can find you a lit Lambo!\n"
          ]
        }
      ],
      "source": [
        "rental_car = input(\"What kind of rental car would you like? \\n\")\n",
        "\n",
        "print(f\"\\nLet me see if I can find you a lit {rental_car}!\")"
      ]
    },
    {
      "cell_type": "markdown",
      "source": [
        "##7-2 Restaurant Seating"
      ],
      "metadata": {
        "id": "d8ZlksxA7Jhi"
      }
    },
    {
      "cell_type": "code",
      "source": [
        "dinner_group = int(input(\"How many of you are going to sit on the table? \\n\"))\n",
        "\n",
        "if dinner_group > 8:\n",
        "  print(f\"\\nThere are no currently available table that can occupy 8 people, You'll have to wait.\")\n",
        "else:\n",
        "  print(f\"\\nYour table is ready!\")"
      ],
      "metadata": {
        "colab": {
          "base_uri": "https://localhost:8080/"
        },
        "id": "E14ClQei7LPY",
        "outputId": "210b9779-1774-440b-caec-05e7cb04bb07"
      },
      "execution_count": 9,
      "outputs": [
        {
          "output_type": "stream",
          "name": "stdout",
          "text": [
            "How many of you are going to sit on the table? \n",
            "7\n",
            "\n",
            "Your table is ready!\n"
          ]
        }
      ]
    },
    {
      "cell_type": "markdown",
      "source": [
        "##7-3 Multiples of Ten"
      ],
      "metadata": {
        "id": "VptdVcif71hs"
      }
    },
    {
      "cell_type": "code",
      "source": [
        "ten = int(input(\"Give me a number: \\n\"))\n",
        "\n",
        "if ten % 10 == 0:\n",
        "  print(f\"\\nThe number is a multiple of 10!\")\n",
        "else:\n",
        "  print(f\"\\nThe number is definitely not a multiple of 10!\")"
      ],
      "metadata": {
        "colab": {
          "base_uri": "https://localhost:8080/"
        },
        "id": "qoDfeyuW73AU",
        "outputId": "34d57abe-596c-42ce-c75f-92968e2b6bdf"
      },
      "execution_count": 13,
      "outputs": [
        {
          "output_type": "stream",
          "name": "stdout",
          "text": [
            "Give me a number: \n",
            "52190\n",
            "\n",
            "The number is a multiple of 10!\n"
          ]
        }
      ]
    }
  ]
}