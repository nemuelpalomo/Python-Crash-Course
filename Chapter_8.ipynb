{
  "nbformat": 4,
  "nbformat_minor": 0,
  "metadata": {
    "colab": {
      "name": "Chapter 8.ipynb",
      "provenance": [],
      "collapsed_sections": [],
      "authorship_tag": "ABX9TyPmM2oxfWruTHCyXMJ1EXgF",
      "include_colab_link": true
    },
    "kernelspec": {
      "name": "python3",
      "display_name": "Python 3"
    },
    "language_info": {
      "name": "python"
    }
  },
  "cells": [
    {
      "cell_type": "markdown",
      "metadata": {
        "id": "view-in-github",
        "colab_type": "text"
      },
      "source": [
        "<a href=\"https://colab.research.google.com/github/nemuelpalomo/Python-Crash-Course/blob/main/Chapter_8.ipynb\" target=\"_parent\"><img src=\"https://colab.research.google.com/assets/colab-badge.svg\" alt=\"Open In Colab\"/></a>"
      ]
    },
    {
      "cell_type": "markdown",
      "source": [
        "##8-1 Message"
      ],
      "metadata": {
        "id": "rM-eWy0J2Wdv"
      }
    },
    {
      "cell_type": "code",
      "execution_count": null,
      "metadata": {
        "colab": {
          "base_uri": "https://localhost:8080/"
        },
        "id": "d1I_AGGF2T1L",
        "outputId": "3d317fb8-0e35-4edf-c58f-4befa817ee42"
      },
      "outputs": [
        {
          "output_type": "stream",
          "name": "stdout",
          "text": [
            "In this chapter, I'm gonna learn about FUNCTIONS!!!!!\n"
          ]
        }
      ],
      "source": [
        "def display_message():\n",
        "    print(\"In this chapter, I'm gonna learn about FUNCTIONS!!!!!\")\n",
        "\n",
        "display_message()"
      ]
    },
    {
      "cell_type": "markdown",
      "source": [
        "##8-2 Favorite Book"
      ],
      "metadata": {
        "id": "g0PbPYsb2pn6"
      }
    },
    {
      "cell_type": "code",
      "source": [
        "def favorite_book(title):\n",
        "  print(f\"One of my favorite books is {title.title()}\")\n",
        "\n",
        "favorite_book(\"atomic habits\")"
      ],
      "metadata": {
        "colab": {
          "base_uri": "https://localhost:8080/"
        },
        "id": "RQzVF8QI2n9g",
        "outputId": "b057ec34-5212-4b48-a579-c520ef2a530e"
      },
      "execution_count": null,
      "outputs": [
        {
          "output_type": "stream",
          "name": "stdout",
          "text": [
            "One of my favorite books is Atomic Habits\n"
          ]
        }
      ]
    },
    {
      "cell_type": "markdown",
      "source": [
        "##8-3 T-Shirt"
      ],
      "metadata": {
        "id": "AWkhi2Iu50T0"
      }
    },
    {
      "cell_type": "code",
      "source": [
        "#Positional Arguments\n",
        "\n",
        "def make_shirt(size, text):\n",
        "  print(f\"\\nThe shirt was made, its size is {size.upper()} and the text printed on it says '{text.title()}'.\")\n",
        "\n",
        "\n",
        "make_shirt('large', 'I LOVE PYTHON MA FRIEND')"
      ],
      "metadata": {
        "colab": {
          "base_uri": "https://localhost:8080/"
        },
        "id": "dO2KFWaU51qn",
        "outputId": "934605c2-491f-4e4e-e75f-91e3174c1f8f"
      },
      "execution_count": null,
      "outputs": [
        {
          "output_type": "stream",
          "name": "stdout",
          "text": [
            "\n",
            "The shirt was made, its size is LARGE and the text printed on it says 'I Love Python Ma Friend'.\n"
          ]
        }
      ]
    },
    {
      "cell_type": "markdown",
      "source": [
        "##8-4 Large Shirt"
      ],
      "metadata": {
        "id": "w7ZmWH-A6lfq"
      }
    },
    {
      "cell_type": "code",
      "source": [
        "#Default Values\n",
        "\n",
        "def make_shirt(size='large', text='I love python!'):\n",
        "  print(f\"The shirt has been made, its size is {size.upper()} and the printed text on it says '{text.title()}'\")\n",
        "\n",
        "make_shirt()"
      ],
      "metadata": {
        "colab": {
          "base_uri": "https://localhost:8080/"
        },
        "id": "UFNvQnFl6n2V",
        "outputId": "2d23e352-ed2d-488d-8e5f-1b4fce98e6a1"
      },
      "execution_count": null,
      "outputs": [
        {
          "output_type": "stream",
          "name": "stdout",
          "text": [
            "The shirt has been made, its size is LARGE and the printed text on it says 'I Love Python!'\n"
          ]
        }
      ]
    },
    {
      "cell_type": "markdown",
      "source": [
        "##8-5 Cities"
      ],
      "metadata": {
        "id": "ZnyljazK7VOk"
      }
    },
    {
      "cell_type": "code",
      "source": [
        "def describe_city(name, country='Philippines'):\n",
        "  if name == 'tokyo':\n",
        "    print(f\"{name.title()} is not located in the {country}! \")\n",
        "  else:\n",
        "    print(f\"{name.title()} is a city located in the {country}.\\n\")\n",
        "\n",
        "\n",
        "describe_city('makati')\n",
        "describe_city('quezon')\n",
        "describe_city('tokyo')"
      ],
      "metadata": {
        "colab": {
          "base_uri": "https://localhost:8080/"
        },
        "id": "KhmzKU7B7Wb_",
        "outputId": "cf4e3dae-5f23-459f-c533-273f4bc4efeb"
      },
      "execution_count": null,
      "outputs": [
        {
          "output_type": "stream",
          "name": "stdout",
          "text": [
            "Makati is a city located in the Philippines.\n",
            "\n",
            "Quezon is a city located in the Philippines.\n",
            "\n",
            "Tokyo is not located in the Philippines! \n"
          ]
        }
      ]
    },
    {
      "cell_type": "markdown",
      "source": [
        "##8-6 City Names"
      ],
      "metadata": {
        "id": "pu4ALB8ZHvsd"
      }
    },
    {
      "cell_type": "code",
      "source": [
        "def city_country(name, country):\n",
        "  if country != 'usa':\n",
        "    print(f\"{name.title()}, {country.title()}\\n\")\n",
        "  else:\n",
        "    print(f\"{name.title()}, {country.upper()}\\n\")\n",
        "  \n",
        "\n",
        "city_country('makati', 'philippines')\n",
        "city_country('tokyo', 'japan')\n",
        "city_country('new york', 'usa')"
      ],
      "metadata": {
        "colab": {
          "base_uri": "https://localhost:8080/"
        },
        "id": "9q8QLJadHxDv",
        "outputId": "07405ec2-79b3-41e3-c8a6-0172e55ef187"
      },
      "execution_count": null,
      "outputs": [
        {
          "output_type": "stream",
          "name": "stdout",
          "text": [
            "Makati, Philippines\n",
            "\n",
            "Tokyo, Japan\n",
            "\n",
            "New York, USA\n",
            "\n"
          ]
        }
      ]
    },
    {
      "cell_type": "markdown",
      "source": [
        "##8-7 Album"
      ],
      "metadata": {
        "id": "WvO__e86Irjv"
      }
    },
    {
      "cell_type": "code",
      "source": [
        "def make_album(artist_name, album_title, songs=0):\n",
        "\n",
        "    album_dict = {'artist': artist_name, 'album': album_title, 'songs': songs}\n",
        "    return album_dict\n",
        "\n",
        "    if songs:\n",
        "        album['songs'] = songs\n",
        "    return album\n",
        "\n",
        "\n",
        "\n",
        "musician_album = make_album('nemuel', 'rising', 7)\n",
        "print(musician_album)\n",
        "musician_album = make_album('yogo', 'tata', 2)\n",
        "print(musician_album)\n",
        "musician_album = make_album('tra', 'astro', songs=2)\n",
        "print(musician_album)\n",
        "\n",
        "\n",
        "\n",
        "\n",
        "\n",
        "\n"
      ],
      "metadata": {
        "colab": {
          "base_uri": "https://localhost:8080/"
        },
        "id": "AksYPHZVItQD",
        "outputId": "204b4a16-da74-4ab3-9e86-373a84a4f638"
      },
      "execution_count": null,
      "outputs": [
        {
          "output_type": "stream",
          "name": "stdout",
          "text": [
            "{'artist': 'nemuel', 'album': 'rising', 'songs': 7}\n",
            "{'artist': 'yogo', 'album': 'tata', 'songs': 2}\n",
            "{'artist': 'tra', 'album': 'astro', 'songs': 2}\n"
          ]
        }
      ]
    },
    {
      "cell_type": "markdown",
      "source": [
        "##8-8 User Albums"
      ],
      "metadata": {
        "id": "5dmBkTcpMjaW"
      }
    },
    {
      "cell_type": "code",
      "source": [
        "def make_album(artist, title, tracks=None):\n",
        "  \n",
        "  album_dict = {'artist': artist.title(), 'title': title.title()}\n",
        "\n",
        "  if tracks:\n",
        "    album_dict['tracks'] = tracks\n",
        "  return album_dict\n",
        "\n",
        "artist_prompt = \"\\nWho's your favorite artist in the music industry? \"\n",
        "title_prompt = \"\\nMention one of his/her album. \"\n",
        "\n",
        "print(\"\\n(Just type 'quit' and enter if you are done)\")\n",
        "\n",
        "while True:\n",
        "  artist = input(artist_prompt)\n",
        "  if artist == 'quit':\n",
        "    break\n",
        "\n",
        "\n",
        "  title = input(title_prompt)\n",
        "  if title == 'quit':\n",
        "    break\n",
        "\n",
        "  result = make_album(artist, title)\n",
        "\n",
        "  print(f\"\\nName of the artist: {result['artist']}\\n\\nAlbum: as{result['title']}\")\n"
      ],
      "metadata": {
        "colab": {
          "base_uri": "https://localhost:8080/"
        },
        "id": "RWhOwa32MoT6",
        "outputId": "a5244c80-fde6-4a6a-fc7f-c262b1c8f554"
      },
      "execution_count": null,
      "outputs": [
        {
          "name": "stdout",
          "output_type": "stream",
          "text": [
            "\n",
            "(Just type 'quit' and enter if you are done)\n",
            "\n",
            "Who's your favorite artist in the music industry? travis\n",
            "\n",
            "Mention one of his/her album. astro\n",
            "\n",
            "Name of the artist: Travis\n",
            "\n",
            "Album: Astro\n",
            "\n",
            "Who's your favorite artist in the music industry? quit\n"
          ]
        }
      ]
    },
    {
      "cell_type": "markdown",
      "source": [
        "##8-9 Message"
      ],
      "metadata": {
        "id": "lANXJ_-BXjlK"
      }
    },
    {
      "cell_type": "code",
      "source": [
        "messages = ['hi', 'hello', 'i love you!']\n",
        "\n",
        "\n",
        "\n",
        "def show_messages(messages):\n",
        "  print(f\"The following messages are:\\n\")\n",
        "  for message in messages:\n",
        "      print(f\"{message}\")\n",
        "    \n",
        "\n",
        "\n",
        "\n",
        "show_messages(messages)\n",
        "\n",
        "\n",
        "\n",
        "\n",
        "\n",
        "\n"
      ],
      "metadata": {
        "colab": {
          "base_uri": "https://localhost:8080/"
        },
        "id": "os6_I00HXlw5",
        "outputId": "1c954263-08a2-4db1-b88f-776292aca631"
      },
      "execution_count": 18,
      "outputs": [
        {
          "output_type": "stream",
          "name": "stdout",
          "text": [
            "The following messages are:\n",
            "\n",
            "hi\n",
            "hello\n",
            "i love you!\n"
          ]
        }
      ]
    },
    {
      "cell_type": "markdown",
      "source": [
        "##8-10 Sending Messages"
      ],
      "metadata": {
        "id": "eB9E7M-Aa-pZ"
      }
    },
    {
      "cell_type": "code",
      "source": [
        "unsent_messages = ['hi', 'hello', 'i love you!']\n",
        "\n",
        "sent_messages = []\n",
        "\n",
        "\n",
        "def text_messages(unsent_messages, sent_messages):\n",
        "  while unsent_messages:\n",
        "    current_msg = unsent_messages.pop()\n",
        "    print(f\"Sending the message '{current_msg}'\")\n",
        "    sent_messages.append(current_msg)\n",
        "\n",
        "\n",
        "def show_messages(sent_messages):\n",
        "  print(f\"\\nThe following message has been sent:\\n\")\n",
        "  for sent_message in sent_messages:\n",
        "      print(f\"{sent_message}\")\n",
        "    \n",
        "\n",
        "\n",
        "\n",
        "text_messages(unsent_messages, sent_messages)\n",
        "\n",
        "show_messages(sent_messages)"
      ],
      "metadata": {
        "colab": {
          "base_uri": "https://localhost:8080/"
        },
        "id": "pBPWWAofbDO7",
        "outputId": "ed726c86-bbf0-4683-bec6-061d99e341b7"
      },
      "execution_count": 19,
      "outputs": [
        {
          "output_type": "stream",
          "name": "stdout",
          "text": [
            "Sending the message 'i love you!'\n",
            "Sending the message 'hello'\n",
            "Sending the message 'hi'\n",
            "\n",
            "The following message has been sent:\n",
            "\n",
            "i love you!\n",
            "hello\n",
            "hi\n"
          ]
        }
      ]
    },
    {
      "cell_type": "markdown",
      "source": [
        "##8-11 Archived Messages"
      ],
      "metadata": {
        "id": "8BWxA5iDdTJy"
      }
    },
    {
      "cell_type": "code",
      "source": [
        "unsent_messages = ['hi', 'hello', 'i love you!']\n",
        "\n",
        "sent_messages = []\n",
        "\n",
        "\n",
        "def text_messages(unsent_messages, sent_messages):\n",
        "  while unsent_messages:\n",
        "    current_msg = unsent_messages.pop()\n",
        "    print(f\"Sending the message '{current_msg}'\")\n",
        "    sent_messages.append(current_msg)\n",
        "\n",
        "\n",
        "def show_messages(sent_messages):\n",
        "  print(f\"\\nThe following message has been sent:\\n\")\n",
        "  for sent_message in sent_messages:\n",
        "      print(f\"{sent_message}\")\n",
        "    \n",
        "\n",
        "\n",
        "\n",
        "text_messages(unsent_messages[:], sent_messages)\n",
        "\n",
        "show_messages(sent_messages)\n",
        "\n",
        "\n",
        "\n",
        "print(f\"\\n{unsent_messages}\")\n",
        "print(sent_messages)"
      ],
      "metadata": {
        "colab": {
          "base_uri": "https://localhost:8080/"
        },
        "id": "GalrJ2vFdS7U",
        "outputId": "e5f36f17-0bfa-4859-bc04-7d047020de39"
      },
      "execution_count": 22,
      "outputs": [
        {
          "output_type": "stream",
          "name": "stdout",
          "text": [
            "Sending the message 'i love you!'\n",
            "Sending the message 'hello'\n",
            "Sending the message 'hi'\n",
            "\n",
            "The following message has been sent:\n",
            "\n",
            "i love you!\n",
            "hello\n",
            "hi\n",
            "\n",
            "['hi', 'hello', 'i love you!']\n",
            "['i love you!', 'hello', 'hi']\n"
          ]
        }
      ]
    },
    {
      "cell_type": "markdown",
      "source": [
        "##8-12 Sandwiches"
      ],
      "metadata": {
        "id": "Ps954cX3gDEY"
      }
    },
    {
      "cell_type": "code",
      "source": [
        "def make_sandwich(*stuffing):\n",
        "  \"\"\" function call that puts all the stuff that you want in your sandwich \"\"\"\n",
        "  print(f\"\\nYour sandwich has: \\n\")\n",
        "  for stuff in stuffing:\n",
        "    print(f\"- {stuff}\\n\")\n",
        "  \n",
        "    \n",
        "\n",
        "\n",
        "make_sandwich('hotdog', 'cheese', 'ketchup')\n",
        "\n",
        "make_sandwich('mustard', 'chicken', 'pickles')\n",
        "\n"
      ],
      "metadata": {
        "colab": {
          "base_uri": "https://localhost:8080/"
        },
        "id": "H8Zrd5tJgEq5",
        "outputId": "5d876493-2cc3-4c8b-ea49-e63cc014b0c0"
      },
      "execution_count": 35,
      "outputs": [
        {
          "output_type": "stream",
          "name": "stdout",
          "text": [
            "\n",
            "Your sandwich has: \n",
            "\n",
            "- hotdog\n",
            "\n",
            "- cheese\n",
            "\n",
            "- ketchup\n",
            "\n",
            "\n",
            "Your sandwich has: \n",
            "\n",
            "- mustard\n",
            "\n",
            "- chicken\n",
            "\n",
            "- pickles\n",
            "\n"
          ]
        }
      ]
    },
    {
      "cell_type": "markdown",
      "source": [
        "##8-13 User Profile"
      ],
      "metadata": {
        "id": "7HvP6kcBieR8"
      }
    },
    {
      "cell_type": "code",
      "source": [
        "def build_profile(first, last, **user_info):\n",
        "  \"\"\" Build a dictionary containing everything we know about a user.\"\"\"\n",
        "\n",
        "  user_info['first_name'] = first\n",
        "  user_info['last_name'] = last\n",
        "\n",
        "  return user_info\n",
        "\n",
        "user_profile = build_profile('nemuel', 'palomo', status='alive', progress='40%', height=\"5'10 3/4\")\n",
        "\n",
        "print(user_profile)"
      ],
      "metadata": {
        "colab": {
          "base_uri": "https://localhost:8080/"
        },
        "id": "lJl55iBbihn-",
        "outputId": "14cb7e11-ade5-4f82-ec7b-6e286c9f1417"
      },
      "execution_count": 38,
      "outputs": [
        {
          "output_type": "stream",
          "name": "stdout",
          "text": [
            "{'status': 'alive', 'progress': '40%', 'height': \"5'10 3/4\", 'first_name': 'nemuel', 'last_name': 'palomo'}\n"
          ]
        }
      ]
    },
    {
      "cell_type": "markdown",
      "source": [
        "##8-14 Cars"
      ],
      "metadata": {
        "id": "10cWREofkm79"
      }
    },
    {
      "cell_type": "code",
      "source": [
        "def car_info(manufacturer, model, **kwargs):\n",
        "  \"\"\" Builds a car that returns the information following with keyword arbitrary argument \"\"\"\n",
        "  \n",
        "  kwargs['manufacturer'] = manufacturer\n",
        "  kwargs['model'] = model\n",
        "\n",
        "  return kwargs\n",
        "\n",
        "car1 = car_info('lamborghini', 'supercar', acceleration='0-60mph in 2.1 seconds', top_speed='217 mph')\n",
        "\n",
        "\n",
        "print(car1)\n",
        "\n",
        "  "
      ],
      "metadata": {
        "colab": {
          "base_uri": "https://localhost:8080/"
        },
        "id": "E9y-ZpzKkoRH",
        "outputId": "0709f6fc-fa6e-410c-9e1d-3174d2ca93c6"
      },
      "execution_count": 39,
      "outputs": [
        {
          "output_type": "stream",
          "name": "stdout",
          "text": [
            "{'acceleration': '0-60mph in 2.1 seconds', 'top_speed': '217 mph', 'manufacturer': 'lamborghini', 'model': 'supercar'}\n"
          ]
        }
      ]
    }
  ]
}