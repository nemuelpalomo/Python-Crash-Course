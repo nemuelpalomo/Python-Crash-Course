{
  "nbformat": 4,
  "nbformat_minor": 0,
  "metadata": {
    "colab": {
      "name": "Chapter 6.ipynb",
      "provenance": [],
      "collapsed_sections": [],
      "authorship_tag": "ABX9TyPxFFZDCt10pxv88JW2VTD3",
      "include_colab_link": true
    },
    "kernelspec": {
      "name": "python3",
      "display_name": "Python 3"
    },
    "language_info": {
      "name": "python"
    }
  },
  "cells": [
    {
      "cell_type": "markdown",
      "metadata": {
        "id": "view-in-github",
        "colab_type": "text"
      },
      "source": [
        "<a href=\"https://colab.research.google.com/github/nemuelpalomo/Python-Crash-Course/blob/main/Chapter_6.ipynb\" target=\"_parent\"><img src=\"https://colab.research.google.com/assets/colab-badge.svg\" alt=\"Open In Colab\"/></a>"
      ]
    },
    {
      "cell_type": "markdown",
      "source": [
        "##6-1 Person"
      ],
      "metadata": {
        "id": "B5gNVPaAwjZd"
      }
    },
    {
      "cell_type": "code",
      "execution_count": null,
      "metadata": {
        "colab": {
          "base_uri": "https://localhost:8080/"
        },
        "id": "aw7L63sLsAkY",
        "outputId": "f4f59e4f-03c5-4c91-9f06-559d38cb3da4"
      },
      "outputs": [
        {
          "output_type": "stream",
          "name": "stdout",
          "text": [
            "Nemuel\n",
            "Palomo\n",
            "24\n",
            "San Francisco\n"
          ]
        }
      ],
      "source": [
        "nemuel = {\n",
        "    'first_name': 'Nemuel',\n",
        "    'last_name': 'Palomo',\n",
        "    'age': '24',\n",
        "    'city': 'San Francisco'\n",
        "          }\n",
        "\n",
        "for keys in nemuel:\n",
        "  print(nemuel[keys])"
      ]
    },
    {
      "cell_type": "markdown",
      "source": [
        "##6-2 Favorite Number"
      ],
      "metadata": {
        "id": "ENcgOh7czsHj"
      }
    },
    {
      "cell_type": "code",
      "source": [
        "favorite_numbers = {\n",
        "    'nemuel': 11,\n",
        "    'rico': 7,\n",
        "    'palomo': 1.00,\n",
        "    'janna': 2.1,\n",
        "    'yawa': 5\n",
        "}\n",
        "\n",
        "for favs in favorite_numbers:\n",
        "    print(f\"'{favs.title()}' favorite number is {favorite_numbers[favs]}.\\n\")\n"
      ],
      "metadata": {
        "colab": {
          "base_uri": "https://localhost:8080/"
        },
        "id": "v8q4Mam8zwZY",
        "outputId": "4491b106-e9b8-4344-f0f2-75300fc5ab54"
      },
      "execution_count": null,
      "outputs": [
        {
          "output_type": "stream",
          "name": "stdout",
          "text": [
            "'Nemuel' favorite number is 11.\n",
            "\n",
            "'Rico' favorite number is 7.\n",
            "\n",
            "'Palomo' favorite number is 1.0.\n",
            "\n",
            "'Janna' favorite number is 2.1.\n",
            "\n",
            "'Yawa' favorite number is 5.\n",
            "\n"
          ]
        }
      ]
    },
    {
      "cell_type": "markdown",
      "source": [
        "##6-3 Glossary"
      ],
      "metadata": {
        "id": "xIO6Wipe0qSH"
      }
    },
    {
      "cell_type": "code",
      "source": [
        "glossary = {\n",
        "    'for': 'iteration',\n",
        "    'if': 'conditional if',\n",
        "    'bool': 'true and false',\n",
        "    'string': 'words or sentences',\n",
        "    'float': 'a number with decimal places'\n",
        "}\n",
        "\n",
        "\n",
        "for iteration in glossary:\n",
        "  print(f\"{iteration}:\\n {glossary[iteration]}\\n\")"
      ],
      "metadata": {
        "colab": {
          "base_uri": "https://localhost:8080/"
        },
        "id": "Kqtz4lBr0tlg",
        "outputId": "d90425f8-cf1d-43bf-9c9c-100587b32589"
      },
      "execution_count": null,
      "outputs": [
        {
          "output_type": "stream",
          "name": "stdout",
          "text": [
            "for:\n",
            " iteration\n",
            "\n",
            "if:\n",
            " conditional if\n",
            "\n",
            "bool:\n",
            " true and false\n",
            "\n",
            "string:\n",
            " words or sentences\n",
            "\n",
            "float:\n",
            " a number with decimal places\n",
            "\n"
          ]
        }
      ]
    },
    {
      "cell_type": "markdown",
      "source": [
        "##6-4 Glossary 2"
      ],
      "metadata": {
        "id": "cwm4jqrf2Hch"
      }
    },
    {
      "cell_type": "code",
      "source": [
        "glossary2 = {\n",
        "    'for': 'iteration.',\n",
        "    'if': 'conditional if.',\n",
        "    'bool': 'true and false.',\n",
        "    'string': 'words or sentences.',\n",
        "    'float': 'a number with decimal places.',\n",
        "    'indentation': 'a space for readibility through a scope.',\n",
        "    'operators': 'arithmetic operators such as addition, subtraction, multiplication, and division.',\n",
        "    'list': 'a container that can store any kind of values.',\n",
        "    'tuple': 'a similar container as list with a difference that you cannot modify the values.',\n",
        "    'index': 'number location of specific value stored in a list or tuples, the first index value should be 0.'\n",
        "}\n",
        "\n",
        "\n",
        "for key, value in glossary2.items():\n",
        "  print(f\"\\nKey: '{key}'\")\n",
        "  print(f\"Value: '{value}'\")"
      ],
      "metadata": {
        "colab": {
          "base_uri": "https://localhost:8080/"
        },
        "id": "V8OCeJgv4vwQ",
        "outputId": "118a0e48-9dcf-4a88-a189-4b1c23ece4e4"
      },
      "execution_count": null,
      "outputs": [
        {
          "output_type": "stream",
          "name": "stdout",
          "text": [
            "\n",
            "Key: 'for'\n",
            "Value: 'iteration.'\n",
            "\n",
            "Key: 'if'\n",
            "Value: 'conditional if.'\n",
            "\n",
            "Key: 'bool'\n",
            "Value: 'true and false.'\n",
            "\n",
            "Key: 'string'\n",
            "Value: 'words or sentences.'\n",
            "\n",
            "Key: 'float'\n",
            "Value: 'a number with decimal places.'\n",
            "\n",
            "Key: 'indentation'\n",
            "Value: 'a space for readibility through a scope.'\n",
            "\n",
            "Key: 'operators'\n",
            "Value: 'arithmetic operators such as addition, subtraction, multiplication, and division.'\n",
            "\n",
            "Key: 'list'\n",
            "Value: 'a container that can store any kind of values.'\n",
            "\n",
            "Key: 'tuple'\n",
            "Value: 'a similar container as list with a difference that you cannot modify the values.'\n",
            "\n",
            "Key: 'index'\n",
            "Value: 'number location of specific value stored in a list or tuples, the first index value should be 0.'\n"
          ]
        }
      ]
    },
    {
      "cell_type": "markdown",
      "source": [
        "##6-6 Polling"
      ],
      "metadata": {
        "id": "8Mdau1iAvQZV"
      }
    },
    {
      "cell_type": "code",
      "source": [
        "favorite_languages = {\n",
        "    'jen': 'python',\n",
        "    'sarah': 'c',\n",
        "    'edward': 'ruby',\n",
        "    'phil': 'python'\n",
        "}\n",
        "\n",
        "users = ['nemuel', 'rico', 'jen', 'sarah', 'jana']\n",
        "\n",
        "for user in users:\n",
        "  if user in favorite_languages.keys():\n",
        "    print(f\"The user {user.title()} have taken the poll already!\\n\")\n",
        "  elif user not in favorite_languages.keys():\n",
        "    print(f\"You should take the poll {user.title()}!\\n\")\n",
        "\n",
        "\n"
      ],
      "metadata": {
        "colab": {
          "base_uri": "https://localhost:8080/"
        },
        "id": "ATiJ7XlivWr5",
        "outputId": "9895272b-b8b8-48d9-d0ed-67c194d47141"
      },
      "execution_count": null,
      "outputs": [
        {
          "output_type": "stream",
          "name": "stdout",
          "text": [
            "You should take the poll Nemuel!\n",
            "\n",
            "You should take the poll Rico!\n",
            "\n",
            "The user Jen have taken the poll already!\n",
            "\n",
            "The user Sarah have taken the poll already!\n",
            "\n",
            "You should take the poll Jana!\n",
            "\n"
          ]
        }
      ]
    },
    {
      "cell_type": "markdown",
      "source": [
        "##6-7 People"
      ],
      "metadata": {
        "id": "SVpJFfni2hGa"
      }
    },
    {
      "cell_type": "code",
      "source": [
        "nemuel = {\n",
        "    'first_name': 'Nemuel',\n",
        "    'last_name': 'Palomo',\n",
        "    'age': '24',\n",
        "    'city': 'San Francisco'\n",
        "        }\n",
        "\n",
        "liam = {\n",
        "    'first_name': 'Liam',\n",
        "    'last_name': 'Orgado',\n",
        "    'age': '22',\n",
        "    'city': 'San Francisco'\n",
        "        }\n",
        "\n",
        "hem = {\n",
        "    'first_name': 'Wilhelmn',\n",
        "    'last_name': 'Palomo',\n",
        "    'age': '19',\n",
        "    'city': 'Los Angeles'\n",
        "        }\n",
        "\n",
        "people = [nemuel, liam, hem]\n",
        "\n",
        "for betlog in people:\n",
        "  name = f\"{betlog['first_name']} {betlog['last_name']}\"\n",
        "  age = betlog['age']\n",
        "  location = betlog['city']\n",
        "\n",
        "  print(f\"{name}, is in {location} and is {age} years old.\\n\")"
      ],
      "metadata": {
        "colab": {
          "base_uri": "https://localhost:8080/"
        },
        "id": "tZII1gNhvjpf",
        "outputId": "b1ccc0f4-ef40-4aed-e34b-5b3061c9fb3f"
      },
      "execution_count": null,
      "outputs": [
        {
          "output_type": "stream",
          "name": "stdout",
          "text": [
            "Nemuel Palomo, is in San Francisco and is 24 years old.\n",
            "\n",
            "Liam Orgado, is in San Francisco and is 22 years old.\n",
            "\n",
            "Wilhelmn Palomo, is in Los Angeles and is 19 years old.\n",
            "\n"
          ]
        }
      ]
    },
    {
      "cell_type": "markdown",
      "source": [
        "##6-8 Pets"
      ],
      "metadata": {
        "id": "V-PbjOp8lJmT"
      }
    },
    {
      "cell_type": "code",
      "source": [
        "pets = []\n",
        "\n",
        "\n",
        "pet = {\n",
        "    'name': 'yoshi',\n",
        "    'kind': 'cat',\n",
        "    'owner': 'nemuel'\n",
        "    }\n",
        "pets.append(pet)\n",
        "\n",
        "\n",
        "pet = {\n",
        "    'name': 'blacky',\n",
        "    'kind': 'dog',\n",
        "    'owner': 'rey'\n",
        "    }\n",
        "pets.append(pet)\n",
        "\n",
        "for pet in pets:\n",
        "  print(f\"{pet['owner'].title()} owns {pet['name'].title()} which is a {pet['kind'].title()}.\\n\")\n"
      ],
      "metadata": {
        "colab": {
          "base_uri": "https://localhost:8080/"
        },
        "id": "0ktEismLlLw0",
        "outputId": "94f7e616-d202-47d4-8a0a-4c14516361e2"
      },
      "execution_count": 9,
      "outputs": [
        {
          "output_type": "stream",
          "name": "stdout",
          "text": [
            "Nemuel owns Yoshi which is a Cat.\n",
            "\n",
            "Rey owns Blacky which is a Dog.\n",
            "\n"
          ]
        }
      ]
    },
    {
      "cell_type": "markdown",
      "source": [
        "##6-9 Favorite Places"
      ],
      "metadata": {
        "id": "yz9ZUUQnoOLX"
      }
    },
    {
      "cell_type": "code",
      "source": [
        "favorite_places = {\n",
        "    'nemuel': ['city', 'province', 'metro'],\n",
        "    'rico': ['alley', '90210', 'streets'],\n",
        "    'palomo': ['metro', 'mega-city', 'classy']\n",
        "}\n",
        "\n",
        "for name, places in favorite_places.items():\n",
        "  print(f\"\\n{name.title()} favorite locations are:\")\n",
        "  for place in places:\n",
        "    print(f\"- {place.title()}.\")"
      ],
      "metadata": {
        "colab": {
          "base_uri": "https://localhost:8080/"
        },
        "id": "psvAlI6coP8P",
        "outputId": "fa1a173b-916b-49fd-fc5b-a6f39781897b"
      },
      "execution_count": 15,
      "outputs": [
        {
          "output_type": "stream",
          "name": "stdout",
          "text": [
            "\n",
            "Nemuel favorite locations are:\n",
            "- City.\n",
            "- Province.\n",
            "- Metro.\n",
            "\n",
            "Rico favorite locations are:\n",
            "- Alley.\n",
            "- 90210.\n",
            "- Streets.\n",
            "\n",
            "Palomo favorite locations are:\n",
            "- Metro.\n",
            "- Mega-City.\n",
            "- Classy.\n"
          ]
        }
      ]
    },
    {
      "cell_type": "markdown",
      "source": [
        "##6-10 Favorite Numbers"
      ],
      "metadata": {
        "id": "rFd1E9yhpr6f"
      }
    },
    {
      "cell_type": "code",
      "source": [
        "favorite_numbers = {\n",
        "    'nemuel': [11, 61, 25, 69],\n",
        "    'rico': [7, 21, 225, 612, 1],\n",
        "    'palomo': [1.00, 521, 22, 636],\n",
        "    'janna': [2.1, 251, 99, 2910],\n",
        "    'yawa': [5, 5, 5, 'tuna']\n",
        "}\n",
        "\n",
        "for name, numbers in favorite_numbers.items():\n",
        "  print(f\"\\n{name.title()} favorite numbers are:\")\n",
        "  for number in numbers:\n",
        "    print(f\"- {number}\")"
      ],
      "metadata": {
        "colab": {
          "base_uri": "https://localhost:8080/"
        },
        "id": "bZWuGv85ptow",
        "outputId": "1fe87d8c-1f6f-4e89-efea-3c15b7672137"
      },
      "execution_count": 19,
      "outputs": [
        {
          "output_type": "stream",
          "name": "stdout",
          "text": [
            "\n",
            "Nemuel favorite numbers are:\n",
            "- 11\n",
            "- 61\n",
            "- 25\n",
            "- 69\n",
            "\n",
            "Rico favorite numbers are:\n",
            "- 7\n",
            "- 21\n",
            "- 225\n",
            "- 612\n",
            "- 1\n",
            "\n",
            "Palomo favorite numbers are:\n",
            "- 1.0\n",
            "- 521\n",
            "- 22\n",
            "- 636\n",
            "\n",
            "Janna favorite numbers are:\n",
            "- 2.1\n",
            "- 251\n",
            "- 99\n",
            "- 2910\n",
            "\n",
            "Yawa favorite numbers are:\n",
            "- 5\n",
            "- 5\n",
            "- 5\n",
            "- tuna\n"
          ]
        }
      ]
    },
    {
      "cell_type": "markdown",
      "source": [
        "##6-11 Cities"
      ],
      "metadata": {
        "id": "YnaPi3lZqsD1"
      }
    },
    {
      "cell_type": "code",
      "source": [
        "cities = {\n",
        "    'metro manila': {\n",
        "        'country': 'philippines',\n",
        "        'population': '14.5 million',\n",
        "        'fact': \"Metro Manila is one of Asias premier regions composed of 16 cities and 1 municipality.\"\n",
        "    },\n",
        "    'new york': {\n",
        "        'country': 'usa',\n",
        "        'population': '8.85 million',\n",
        "        'fact': 'Honking Your Horn Is Illegal.'\n",
        "    },\n",
        "    'tokyo': {\n",
        "        'country': 'japan',\n",
        "        'population': '37.8 million',\n",
        "        'fact': 'Tokyo was originally named Edo.'\n",
        "    }\n",
        "}\n",
        "\n",
        "\n",
        "for city, city_info in cities.items():\n",
        "  country = city_info['country'].title()\n",
        "  population = city_info['population']\n",
        "  fact = city_info['fact']\n",
        "\n",
        "  print(f\"{city.title()} is in {country}.\\n\")\n",
        "  print(f\"  Population: {population} as of 2022.\")\n",
        "  print(f\"  Fact: {fact}\\n\")\n",
        "\n",
        "\n",
        "\n",
        "\n"
      ],
      "metadata": {
        "colab": {
          "base_uri": "https://localhost:8080/"
        },
        "id": "k_ayl0MIqul9",
        "outputId": "ed0c6018-c267-42f4-8040-3bc30321ffa1"
      },
      "execution_count": 38,
      "outputs": [
        {
          "output_type": "stream",
          "name": "stdout",
          "text": [
            "Metro Manila is in Philippines.\n",
            "\n",
            "  Population: 14.5 million as of 2022.\n",
            "  Fact: Metro Manila is one of Asias premier regions composed of 16 cities and 1 municipality.\n",
            "\n",
            "New York is in Usa.\n",
            "\n",
            "  Population: 8.85 million as of 2022.\n",
            "  Fact: Honking Your Horn Is Illegal.\n",
            "\n",
            "Tokyo is in Japan.\n",
            "\n",
            "  Population: 37.8 million as of 2022.\n",
            "  Fact: Tokyo was originally named Edo.\n",
            "\n"
          ]
        }
      ]
    },
    {
      "cell_type": "markdown",
      "source": [
        "##6-12 Extensions"
      ],
      "metadata": {
        "id": "71d1C_7Mxdoe"
      }
    },
    {
      "cell_type": "code",
      "source": [
        "cities = {\n",
        "    'metro manila': {\n",
        "        'country': 'philippines',\n",
        "        'population': '14.5 million',\n",
        "        'fact': \"Metro Manila is one of Asias premier regions composed of 16 cities and 1 municipality.\",\n",
        "        'cost-of-living': \"P100,000 monthly.\"\n",
        "    },\n",
        "    'new york': {\n",
        "        'country': 'usa',\n",
        "        'population': '8.85 million',\n",
        "        'fact': 'Honking Your Horn Is Illegal.',\n",
        "        'cost-of-living': \"P624,450 monthly before taxes.\"\n",
        "    },\n",
        "    'tokyo': {\n",
        "        'country': 'japan',\n",
        "        'population': '37.8 million',\n",
        "        'fact': 'Tokyo was originally named Edo.',\n",
        "        'cost-of-living': \"P212,150 monthly without rent.\"\n",
        "    }\n",
        "}\n",
        "\n",
        "\n",
        "for city, city_info in cities.items():\n",
        "  country = city_info['country']\n",
        "  population = city_info['population']\n",
        "  fact = city_info['fact']\n",
        "  cost = city_info['cost-of-living']\n",
        "  if country == 'usa':\n",
        "    print(f\"{city.title()} is in {country.upper()}.\\n\")\n",
        "  else:\n",
        "    print(f\"{city.title()} is in {country.title()}.\\n\")\n",
        "  print(f\"  Population: {population} as of 2022.\")\n",
        "  print(f\"  Fact: {fact}\")\n",
        "  print(f\"  Cost of Living: {cost}\\n\")\n"
      ],
      "metadata": {
        "colab": {
          "base_uri": "https://localhost:8080/"
        },
        "id": "GRw9B9bjxfnO",
        "outputId": "b99cd244-5f70-4b2c-8e5d-e6c3dd964047"
      },
      "execution_count": 45,
      "outputs": [
        {
          "output_type": "stream",
          "name": "stdout",
          "text": [
            "Metro Manila is in Philippines.\n",
            "\n",
            "  Population: 14.5 million as of 2022.\n",
            "  Fact: Metro Manila is one of Asias premier regions composed of 16 cities and 1 municipality.\n",
            "  Cost of Living: P100,000 monthly.\n",
            "\n",
            "New York is in USA.\n",
            "\n",
            "  Population: 8.85 million as of 2022.\n",
            "  Fact: Honking Your Horn Is Illegal.\n",
            "  Cost of Living: P624,450 monthly before taxes.\n",
            "\n",
            "Tokyo is in Japan.\n",
            "\n",
            "  Population: 37.8 million as of 2022.\n",
            "  Fact: Tokyo was originally named Edo.\n",
            "  Cost of Living: P212,150 monthly without rent.\n",
            "\n"
          ]
        }
      ]
    }
  ]
}