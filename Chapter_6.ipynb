{
  "nbformat": 4,
  "nbformat_minor": 0,
  "metadata": {
    "colab": {
      "name": "Chapter 6.ipynb",
      "provenance": [],
      "collapsed_sections": [],
      "authorship_tag": "ABX9TyPntjBeIptchAmiBoYyhcnB",
      "include_colab_link": true
    },
    "kernelspec": {
      "name": "python3",
      "display_name": "Python 3"
    },
    "language_info": {
      "name": "python"
    }
  },
  "cells": [
    {
      "cell_type": "markdown",
      "metadata": {
        "id": "view-in-github",
        "colab_type": "text"
      },
      "source": [
        "<a href=\"https://colab.research.google.com/github/nemuelpalomo/Python-Crash-Course/blob/main/Chapter_6.ipynb\" target=\"_parent\"><img src=\"https://colab.research.google.com/assets/colab-badge.svg\" alt=\"Open In Colab\"/></a>"
      ]
    },
    {
      "cell_type": "markdown",
      "source": [
        "##6-1 Person"
      ],
      "metadata": {
        "id": "B5gNVPaAwjZd"
      }
    },
    {
      "cell_type": "code",
      "execution_count": null,
      "metadata": {
        "colab": {
          "base_uri": "https://localhost:8080/"
        },
        "id": "aw7L63sLsAkY",
        "outputId": "f4f59e4f-03c5-4c91-9f06-559d38cb3da4"
      },
      "outputs": [
        {
          "output_type": "stream",
          "name": "stdout",
          "text": [
            "Nemuel\n",
            "Palomo\n",
            "24\n",
            "San Francisco\n"
          ]
        }
      ],
      "source": [
        "nemuel = {\n",
        "    'first_name': 'Nemuel',\n",
        "    'last_name': 'Palomo',\n",
        "    'age': '24',\n",
        "    'city': 'San Francisco'\n",
        "          }\n",
        "\n",
        "for keys in nemuel:\n",
        "  print(nemuel[keys])"
      ]
    },
    {
      "cell_type": "markdown",
      "source": [
        "##6-2 Favorite Number"
      ],
      "metadata": {
        "id": "ENcgOh7czsHj"
      }
    },
    {
      "cell_type": "code",
      "source": [
        "favorite_numbers = {\n",
        "    'nemuel': 11,\n",
        "    'rico': 7,\n",
        "    'palomo': 1.00,\n",
        "    'janna': 2.1,\n",
        "    'yawa': 5\n",
        "}\n",
        "\n",
        "for favs in favorite_numbers:\n",
        "    print(f\"'{favs.title()}' favorite number is {favorite_numbers[favs]}.\\n\")\n"
      ],
      "metadata": {
        "colab": {
          "base_uri": "https://localhost:8080/"
        },
        "id": "v8q4Mam8zwZY",
        "outputId": "4491b106-e9b8-4344-f0f2-75300fc5ab54"
      },
      "execution_count": null,
      "outputs": [
        {
          "output_type": "stream",
          "name": "stdout",
          "text": [
            "'Nemuel' favorite number is 11.\n",
            "\n",
            "'Rico' favorite number is 7.\n",
            "\n",
            "'Palomo' favorite number is 1.0.\n",
            "\n",
            "'Janna' favorite number is 2.1.\n",
            "\n",
            "'Yawa' favorite number is 5.\n",
            "\n"
          ]
        }
      ]
    },
    {
      "cell_type": "markdown",
      "source": [
        "##6-3 Glossary"
      ],
      "metadata": {
        "id": "xIO6Wipe0qSH"
      }
    },
    {
      "cell_type": "code",
      "source": [
        "glossary = {\n",
        "    'for': 'iteration',\n",
        "    'if': 'conditional if',\n",
        "    'bool': 'true and false',\n",
        "    'string': 'words or sentences',\n",
        "    'float': 'a number with decimal places'\n",
        "}\n",
        "\n",
        "\n",
        "for iteration in glossary:\n",
        "  print(f\"{iteration}:\\n {glossary[iteration]}\\n\")"
      ],
      "metadata": {
        "colab": {
          "base_uri": "https://localhost:8080/"
        },
        "id": "Kqtz4lBr0tlg",
        "outputId": "d90425f8-cf1d-43bf-9c9c-100587b32589"
      },
      "execution_count": null,
      "outputs": [
        {
          "output_type": "stream",
          "name": "stdout",
          "text": [
            "for:\n",
            " iteration\n",
            "\n",
            "if:\n",
            " conditional if\n",
            "\n",
            "bool:\n",
            " true and false\n",
            "\n",
            "string:\n",
            " words or sentences\n",
            "\n",
            "float:\n",
            " a number with decimal places\n",
            "\n"
          ]
        }
      ]
    },
    {
      "cell_type": "markdown",
      "source": [
        "##6-4 Glossary 2"
      ],
      "metadata": {
        "id": "cwm4jqrf2Hch"
      }
    },
    {
      "cell_type": "code",
      "source": [
        "glossary2 = {\n",
        "    'for': 'iteration.',\n",
        "    'if': 'conditional if.',\n",
        "    'bool': 'true and false.',\n",
        "    'string': 'words or sentences.',\n",
        "    'float': 'a number with decimal places.',\n",
        "    'indentation': 'a space for readibility through a scope.',\n",
        "    'operators': 'arithmetic operators such as addition, subtraction, multiplication, and division.',\n",
        "    'list': 'a container that can store any kind of values.',\n",
        "    'tuple': 'a similar container as list with a difference that you cannot modify the values.',\n",
        "    'index': 'number location of specific value stored in a list or tuples, the first index value should be 0.'\n",
        "}\n",
        "\n",
        "\n",
        "for key, value in glossary2.items():\n",
        "  print(f\"\\nKey: '{key}'\")\n",
        "  print(f\"Value: '{value}'\")"
      ],
      "metadata": {
        "colab": {
          "base_uri": "https://localhost:8080/"
        },
        "id": "V8OCeJgv4vwQ",
        "outputId": "118a0e48-9dcf-4a88-a189-4b1c23ece4e4"
      },
      "execution_count": null,
      "outputs": [
        {
          "output_type": "stream",
          "name": "stdout",
          "text": [
            "\n",
            "Key: 'for'\n",
            "Value: 'iteration.'\n",
            "\n",
            "Key: 'if'\n",
            "Value: 'conditional if.'\n",
            "\n",
            "Key: 'bool'\n",
            "Value: 'true and false.'\n",
            "\n",
            "Key: 'string'\n",
            "Value: 'words or sentences.'\n",
            "\n",
            "Key: 'float'\n",
            "Value: 'a number with decimal places.'\n",
            "\n",
            "Key: 'indentation'\n",
            "Value: 'a space for readibility through a scope.'\n",
            "\n",
            "Key: 'operators'\n",
            "Value: 'arithmetic operators such as addition, subtraction, multiplication, and division.'\n",
            "\n",
            "Key: 'list'\n",
            "Value: 'a container that can store any kind of values.'\n",
            "\n",
            "Key: 'tuple'\n",
            "Value: 'a similar container as list with a difference that you cannot modify the values.'\n",
            "\n",
            "Key: 'index'\n",
            "Value: 'number location of specific value stored in a list or tuples, the first index value should be 0.'\n"
          ]
        }
      ]
    },
    {
      "cell_type": "markdown",
      "source": [
        "##6-6 Polling"
      ],
      "metadata": {
        "id": "8Mdau1iAvQZV"
      }
    },
    {
      "cell_type": "code",
      "source": [
        "favorite_languages = {\n",
        "    'jen': 'python',\n",
        "    'sarah': 'c',\n",
        "    'edward': 'ruby',\n",
        "    'phil': 'python'\n",
        "}\n",
        "\n",
        "users = ['nemuel', 'rico', 'jen', 'sarah', 'jana']\n",
        "\n",
        "for user in users:\n",
        "  if user in favorite_languages.keys():\n",
        "    print(f\"The user {user.title()} have taken the poll already!\\n\")\n",
        "  elif user not in favorite_languages.keys():\n",
        "    print(f\"You should take the poll {user.title()}!\\n\")\n",
        "\n",
        "\n"
      ],
      "metadata": {
        "colab": {
          "base_uri": "https://localhost:8080/"
        },
        "id": "ATiJ7XlivWr5",
        "outputId": "9895272b-b8b8-48d9-d0ed-67c194d47141"
      },
      "execution_count": 10,
      "outputs": [
        {
          "output_type": "stream",
          "name": "stdout",
          "text": [
            "You should take the poll Nemuel!\n",
            "\n",
            "You should take the poll Rico!\n",
            "\n",
            "The user Jen have taken the poll already!\n",
            "\n",
            "The user Sarah have taken the poll already!\n",
            "\n",
            "You should take the poll Jana!\n",
            "\n"
          ]
        }
      ]
    },
    {
      "cell_type": "code",
      "source": [
        ""
      ],
      "metadata": {
        "id": "tZII1gNhvjpf"
      },
      "execution_count": null,
      "outputs": []
    }
  ]
}